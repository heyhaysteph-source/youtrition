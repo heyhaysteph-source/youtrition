{
  "nbformat": 4,
  "nbformat_minor": 0,
  "metadata": {
    "colab": {
      "provenance": [],
      "include_colab_link": true
    },
    "kernelspec": {
      "name": "python3",
      "display_name": "Python 3"
    },
    "language_info": {
      "name": "python"
    }
  },
  "cells": [
    {
      "cell_type": "markdown",
      "metadata": {
        "id": "view-in-github",
        "colab_type": "text"
      },
      "source": [
        "<a href=\"https://colab.research.google.com/github/heyhaysteph-source/youtrition/blob/main/Copy_of_Group_2_BIOT_670_Capstone_Project_Personalized_Microbiome_Recommendation_Model.ipynb\" target=\"_parent\"><img src=\"https://colab.research.google.com/assets/colab-badge.svg\" alt=\"Open In Colab\"/></a>"
      ]
    },
    {
      "cell_type": "code",
      "source": [
        "!jupyter nbconvert --to script to .py\n"
      ],
      "metadata": {
        "colab": {
          "base_uri": "https://localhost:8080/"
        },
        "id": "CPJuSXnO_4D8",
        "outputId": "0f3985b3-4333-414f-ff8c-f692a8b75821"
      },
      "execution_count": 1,
      "outputs": [
        {
          "output_type": "stream",
          "name": "stdout",
          "text": [
            "[NbConvertApp] WARNING | pattern 'to' matched no files\n",
            "[NbConvertApp] WARNING | pattern '.py' matched no files\n",
            "This application is used to convert notebook files (*.ipynb)\n",
            "        to various other formats.\n",
            "\n",
            "        WARNING: THE COMMANDLINE INTERFACE MAY CHANGE IN FUTURE RELEASES.\n",
            "\n",
            "Options\n",
            "=======\n",
            "The options below are convenience aliases to configurable class-options,\n",
            "as listed in the \"Equivalent to\" description-line of the aliases.\n",
            "To see all configurable class-options for some <cmd>, use:\n",
            "    <cmd> --help-all\n",
            "\n",
            "--debug\n",
            "    set log level to logging.DEBUG (maximize logging output)\n",
            "    Equivalent to: [--Application.log_level=10]\n",
            "--show-config\n",
            "    Show the application's configuration (human-readable format)\n",
            "    Equivalent to: [--Application.show_config=True]\n",
            "--show-config-json\n",
            "    Show the application's configuration (json format)\n",
            "    Equivalent to: [--Application.show_config_json=True]\n",
            "--generate-config\n",
            "    generate default config file\n",
            "    Equivalent to: [--JupyterApp.generate_config=True]\n",
            "-y\n",
            "    Answer yes to any questions instead of prompting.\n",
            "    Equivalent to: [--JupyterApp.answer_yes=True]\n",
            "--execute\n",
            "    Execute the notebook prior to export.\n",
            "    Equivalent to: [--ExecutePreprocessor.enabled=True]\n",
            "--allow-errors\n",
            "    Continue notebook execution even if one of the cells throws an error and include the error message in the cell output (the default behaviour is to abort conversion). This flag is only relevant if '--execute' was specified, too.\n",
            "    Equivalent to: [--ExecutePreprocessor.allow_errors=True]\n",
            "--stdin\n",
            "    read a single notebook file from stdin. Write the resulting notebook with default basename 'notebook.*'\n",
            "    Equivalent to: [--NbConvertApp.from_stdin=True]\n",
            "--stdout\n",
            "    Write notebook output to stdout instead of files.\n",
            "    Equivalent to: [--NbConvertApp.writer_class=StdoutWriter]\n",
            "--inplace\n",
            "    Run nbconvert in place, overwriting the existing notebook (only\n",
            "            relevant when converting to notebook format)\n",
            "    Equivalent to: [--NbConvertApp.use_output_suffix=False --NbConvertApp.export_format=notebook --FilesWriter.build_directory=]\n",
            "--clear-output\n",
            "    Clear output of current file and save in place,\n",
            "            overwriting the existing notebook.\n",
            "    Equivalent to: [--NbConvertApp.use_output_suffix=False --NbConvertApp.export_format=notebook --FilesWriter.build_directory= --ClearOutputPreprocessor.enabled=True]\n",
            "--coalesce-streams\n",
            "    Coalesce consecutive stdout and stderr outputs into one stream (within each cell).\n",
            "    Equivalent to: [--NbConvertApp.use_output_suffix=False --NbConvertApp.export_format=notebook --FilesWriter.build_directory= --CoalesceStreamsPreprocessor.enabled=True]\n",
            "--no-prompt\n",
            "    Exclude input and output prompts from converted document.\n",
            "    Equivalent to: [--TemplateExporter.exclude_input_prompt=True --TemplateExporter.exclude_output_prompt=True]\n",
            "--no-input\n",
            "    Exclude input cells and output prompts from converted document.\n",
            "            This mode is ideal for generating code-free reports.\n",
            "    Equivalent to: [--TemplateExporter.exclude_output_prompt=True --TemplateExporter.exclude_input=True --TemplateExporter.exclude_input_prompt=True]\n",
            "--allow-chromium-download\n",
            "    Whether to allow downloading chromium if no suitable version is found on the system.\n",
            "    Equivalent to: [--WebPDFExporter.allow_chromium_download=True]\n",
            "--disable-chromium-sandbox\n",
            "    Disable chromium security sandbox when converting to PDF..\n",
            "    Equivalent to: [--WebPDFExporter.disable_sandbox=True]\n",
            "--show-input\n",
            "    Shows code input. This flag is only useful for dejavu users.\n",
            "    Equivalent to: [--TemplateExporter.exclude_input=False]\n",
            "--embed-images\n",
            "    Embed the images as base64 dataurls in the output. This flag is only useful for the HTML/WebPDF/Slides exports.\n",
            "    Equivalent to: [--HTMLExporter.embed_images=True]\n",
            "--sanitize-html\n",
            "    Whether the HTML in Markdown cells and cell outputs should be sanitized..\n",
            "    Equivalent to: [--HTMLExporter.sanitize_html=True]\n",
            "--log-level=<Enum>\n",
            "    Set the log level by value or name.\n",
            "    Choices: any of [0, 10, 20, 30, 40, 50, 'DEBUG', 'INFO', 'WARN', 'ERROR', 'CRITICAL']\n",
            "    Default: 30\n",
            "    Equivalent to: [--Application.log_level]\n",
            "--config=<Unicode>\n",
            "    Full path of a config file.\n",
            "    Default: ''\n",
            "    Equivalent to: [--JupyterApp.config_file]\n",
            "--to=<Unicode>\n",
            "    The export format to be used, either one of the built-in formats\n",
            "            ['asciidoc', 'custom', 'html', 'latex', 'markdown', 'notebook', 'pdf', 'python', 'qtpdf', 'qtpng', 'rst', 'script', 'slides', 'webpdf']\n",
            "            or a dotted object name that represents the import path for an\n",
            "            ``Exporter`` class\n",
            "    Default: ''\n",
            "    Equivalent to: [--NbConvertApp.export_format]\n",
            "--template=<Unicode>\n",
            "    Name of the template to use\n",
            "    Default: ''\n",
            "    Equivalent to: [--TemplateExporter.template_name]\n",
            "--template-file=<Unicode>\n",
            "    Name of the template file to use\n",
            "    Default: None\n",
            "    Equivalent to: [--TemplateExporter.template_file]\n",
            "--theme=<Unicode>\n",
            "    Template specific theme(e.g. the name of a JupyterLab CSS theme distributed\n",
            "    as prebuilt extension for the lab template)\n",
            "    Default: 'light'\n",
            "    Equivalent to: [--HTMLExporter.theme]\n",
            "--sanitize_html=<Bool>\n",
            "    Whether the HTML in Markdown cells and cell outputs should be sanitized.This\n",
            "    should be set to True by nbviewer or similar tools.\n",
            "    Default: False\n",
            "    Equivalent to: [--HTMLExporter.sanitize_html]\n",
            "--writer=<DottedObjectName>\n",
            "    Writer class used to write the\n",
            "                                        results of the conversion\n",
            "    Default: 'FilesWriter'\n",
            "    Equivalent to: [--NbConvertApp.writer_class]\n",
            "--post=<DottedOrNone>\n",
            "    PostProcessor class used to write the\n",
            "                                        results of the conversion\n",
            "    Default: ''\n",
            "    Equivalent to: [--NbConvertApp.postprocessor_class]\n",
            "--output=<Unicode>\n",
            "    Overwrite base name use for output files.\n",
            "                Supports pattern replacements '{notebook_name}'.\n",
            "    Default: '{notebook_name}'\n",
            "    Equivalent to: [--NbConvertApp.output_base]\n",
            "--output-dir=<Unicode>\n",
            "    Directory to write output(s) to. Defaults\n",
            "                                  to output to the directory of each notebook. To recover\n",
            "                                  previous default behaviour (outputting to the current\n",
            "                                  working directory) use . as the flag value.\n",
            "    Default: ''\n",
            "    Equivalent to: [--FilesWriter.build_directory]\n",
            "--reveal-prefix=<Unicode>\n",
            "    The URL prefix for reveal.js (version 3.x).\n",
            "            This defaults to the reveal CDN, but can be any url pointing to a copy\n",
            "            of reveal.js.\n",
            "            For speaker notes to work, this must be a relative path to a local\n",
            "            copy of reveal.js: e.g., \"reveal.js\".\n",
            "            If a relative path is given, it must be a subdirectory of the\n",
            "            current directory (from which the server is run).\n",
            "            See the usage documentation\n",
            "            (https://nbconvert.readthedocs.io/en/latest/usage.html#reveal-js-html-slideshow)\n",
            "            for more details.\n",
            "    Default: ''\n",
            "    Equivalent to: [--SlidesExporter.reveal_url_prefix]\n",
            "--nbformat=<Enum>\n",
            "    The nbformat version to write.\n",
            "            Use this to downgrade notebooks.\n",
            "    Choices: any of [1, 2, 3, 4]\n",
            "    Default: 4\n",
            "    Equivalent to: [--NotebookExporter.nbformat_version]\n",
            "\n",
            "Examples\n",
            "--------\n",
            "\n",
            "    The simplest way to use nbconvert is\n",
            "\n",
            "            > jupyter nbconvert mynotebook.ipynb --to html\n",
            "\n",
            "            Options include ['asciidoc', 'custom', 'html', 'latex', 'markdown', 'notebook', 'pdf', 'python', 'qtpdf', 'qtpng', 'rst', 'script', 'slides', 'webpdf'].\n",
            "\n",
            "            > jupyter nbconvert --to latex mynotebook.ipynb\n",
            "\n",
            "            Both HTML and LaTeX support multiple output templates. LaTeX includes\n",
            "            'base', 'article' and 'report'.  HTML includes 'basic', 'lab' and\n",
            "            'classic'. You can specify the flavor of the format used.\n",
            "\n",
            "            > jupyter nbconvert --to html --template lab mynotebook.ipynb\n",
            "\n",
            "            You can also pipe the output to stdout, rather than a file\n",
            "\n",
            "            > jupyter nbconvert mynotebook.ipynb --stdout\n",
            "\n",
            "            PDF is generated via latex\n",
            "\n",
            "            > jupyter nbconvert mynotebook.ipynb --to pdf\n",
            "\n",
            "            You can get (and serve) a Reveal.js-powered slideshow\n",
            "\n",
            "            > jupyter nbconvert myslides.ipynb --to slides --post serve\n",
            "\n",
            "            Multiple notebooks can be given at the command line in a couple of\n",
            "            different ways:\n",
            "\n",
            "            > jupyter nbconvert notebook*.ipynb\n",
            "            > jupyter nbconvert notebook1.ipynb notebook2.ipynb\n",
            "\n",
            "            or you can specify the notebooks list in a config file, containing::\n",
            "\n",
            "                c.NbConvertApp.notebooks = [\"my_notebook.ipynb\"]\n",
            "\n",
            "            > jupyter nbconvert --config mycfg.py\n",
            "\n",
            "To see all available configurables, use `--help-all`.\n",
            "\n"
          ]
        }
      ]
    },
    {
      "cell_type": "markdown",
      "source": [
        "# **Model Testing**"
      ],
      "metadata": {
        "id": "gIueLWEaZJoF"
      }
    },
    {
      "cell_type": "markdown",
      "source": [
        "Download required files to 'My Drive' home directory of Google Drive. (Will add these files to main directory of UI script)\n",
        "\n",
        "**Links to established model, encoder, and scaler files:**\n",
        "\n",
        "Model - https://drive.google.com/file/d/19qQDY_G_RYnPjdnQo_q0l68M9cqYW89P/view?usp=drive_link\n",
        "\n",
        "Label Encoder - https://drive.google.com/file/d/1SBtZOELdiAB1dRSUxzsTiSyePCc6mtU4/view?usp=drive_link\n",
        "\n",
        "Scaler - https://drive.google.com/file/d/1UNHXUlL9Y02_nqJC9qLraV2t2rXJSpvb/view?usp=drive_link\n",
        "\n",
        "**Links to unique_species, X_train and y_features_list files:**\n",
        "\n",
        "Unique_species - https://drive.google.com/file/d/19FChxpwzmdg8gXN42Fatv4WOeiKS_iPW/view?usp=sharing\n",
        "\n",
        "X_train - https://drive.google.com/file/d/1-DAm2_a6EskjhMtahtYekNscOoEpaj59/view?usp=drive_link\n",
        "\n",
        "y_features_list - https://drive.google.com/file/d/1mkCMc692MQRE4lWTrmkZ7CaKl78It5FK/view?usp=drive_link\n",
        "\n",
        "\n",
        "**Link to completed testing/training dataset**\n",
        "https://drive.google.com/file/d/1mSHCBg5mfYDehSVFgMS_HFH1ohzd6UAY/view?usp=drive_link"
      ],
      "metadata": {
        "id": "OzRVhwTgZgEJ"
      }
    },
    {
      "cell_type": "code",
      "source": [
        "# Part 3 - End of Week 9\n",
        "# Model Testing\n",
        "# Output Generation and Associated Diet Recommendations"
      ],
      "metadata": {
        "id": "UGROQaz45Vtb"
      },
      "execution_count": null,
      "outputs": []
    },
    {
      "cell_type": "code",
      "source": [
        "import pandas as pd # To import datasets as dataframes\n",
        "pd.options.mode.chained_assignment = None  # default='warn'\n",
        "import numpy as np # To perform large scale mathematical operations on datasets as needed\n",
        "import matplotlib.pyplot as plt # For plotting data\n",
        "import seaborn as sns # For formatting matplotlib visualizations\n",
        "from sklearn.ensemble import RandomForestClassifier\n",
        "import joblib\n",
        "import os"
      ],
      "metadata": {
        "id": "NGIqk8CGbUTW"
      },
      "execution_count": null,
      "outputs": []
    },
    {
      "cell_type": "code",
      "source": [
        "# Allow access to Google Drive to load files, only needed for Google Collab\n",
        "from google.colab import drive\n",
        "drive.mount('/content/drive')"
      ],
      "metadata": {
        "colab": {
          "base_uri": "https://localhost:8080/"
        },
        "id": "AGMqJOFKZT78",
        "outputId": "be28296e-7d45-4330-fc49-a27d99377bfe"
      },
      "execution_count": null,
      "outputs": [
        {
          "output_type": "stream",
          "name": "stdout",
          "text": [
            "Mounted at /content/drive\n"
          ]
        }
      ]
    },
    {
      "cell_type": "code",
      "source": [
        "# Import complete_dataset_df_clean.csv from Drive, and load as Pandas dataframe\n",
        "complete_dataset_df_clean = pd.read_csv('/content/drive/MyDrive/complete_dataset_df_clean.csv')"
      ],
      "metadata": {
        "id": "M-lOA_kaZUGJ"
      },
      "execution_count": null,
      "outputs": []
    },
    {
      "cell_type": "code",
      "source": [
        "drive_path = '/content/drive/MyDrive/' # Path to .joblib files\n",
        "unique_species = joblib.load(os.path.join(drive_path, 'unique_species.joblib'))\n",
        "model_filename = 'random_forest_model.joblib'\n",
        "encoder_filename = 'label_encoder.joblib'\n",
        "scaler_filename = 'standard_scaler.joblib'\n",
        "model_save_path = os.path.join(drive_path, model_filename)"
      ],
      "metadata": {
        "id": "-9ZAM5ZRZaaU"
      },
      "execution_count": null,
      "outputs": []
    },
    {
      "cell_type": "code",
      "source": [
        "X_features = ['ibs', 'ibd', 'diet_type', 'bowel_movement_frequency', 'bowel_movement_quality', 'country_of_birth', 'taxonomy_diet_category']\n",
        "X_features.extend(unique_species) # Include taxonomic data in the X inputs\n",
        "y_features = ['vegetable_frequency', 'red_meat_frequency', 'whole_grain_frequency', 'alcohol_frequency', 'milk_cheese_frequency', 'gluten', 'softener']\n",
        "\n",
        "X = complete_dataset_df_clean[X_features]\n",
        "y = complete_dataset_df_clean[y_features]"
      ],
      "metadata": {
        "id": "bGrX9_LnZaht"
      },
      "execution_count": null,
      "outputs": []
    },
    {
      "cell_type": "code",
      "source": [
        "from sklearn.model_selection import train_test_split\n",
        "X_train, X_test, y_train, y_test = train_test_split(X, y, test_size=0.2, random_state=30)"
      ],
      "metadata": {
        "id": "thWxYAQXdImb"
      },
      "execution_count": null,
      "outputs": []
    },
    {
      "cell_type": "markdown",
      "source": [
        "Example usage as follows:\n",
        "Prototype UI will allow user inputs to create an array of inputs structured as that in the training set."
      ],
      "metadata": {
        "id": "a4Xv5kRCZryi"
      }
    },
    {
      "cell_type": "code",
      "source": [
        "X_new = complete_dataset_df_clean[X_features].iloc[24171] # Example row taken from the training set\n",
        "X_new = X_new.to_frame()\n",
        "for column in X_new.columns:\n",
        "  X_new[column] = X_new[column].str.capitalize()\n",
        "X_new = X_new.transpose()"
      ],
      "metadata": {
        "id": "3DdW9Bh2ZUQy"
      },
      "execution_count": null,
      "outputs": []
    },
    {
      "cell_type": "code",
      "source": [
        "X_train.head(1)"
      ],
      "metadata": {
        "colab": {
          "base_uri": "https://localhost:8080/",
          "height": 165
        },
        "id": "YvnaFveQnrVZ",
        "outputId": "6aec6035-8099-4509-9f89-530d36dcf830"
      },
      "execution_count": null,
      "outputs": [
        {
          "output_type": "execute_result",
          "data": {
            "text/plain": [
              "                                ibs  ibd diet_type bowel_movement_frequency  \\\n",
              "24171  I do not have this condition  NaN  Omnivore                      One   \n",
              "\n",
              "                                  bowel_movement_quality country_of_birth  \\\n",
              "24171  I tend to have normal formed stool - type 3 and 4    United states   \n",
              "\n",
              "      taxonomy_diet_category  s__prausnitzii  s__biforme  s__uniformis  ...  \\\n",
              "24171        Hunter Gatherer       -0.028475    0.077916           NaN  ...   \n",
              "\n",
              "       s__adolescentis  s__gnavus  s__johnsonii  s__caccae  s__luteciae  \\\n",
              "24171              NaN        NaN      0.011684        NaN          NaN   \n",
              "\n",
              "       s__piliforme  s__ovatus  s__copri  s__nitroreducens  s__stercorea  \n",
              "24171           NaN        NaN  0.057611         -0.001025      0.105385  \n",
              "\n",
              "[1 rows x 39 columns]"
            ],
            "text/html": [
              "\n",
              "  <div id=\"df-17c2d13d-f802-4c5b-9ce1-84006da59965\" class=\"colab-df-container\">\n",
              "    <div>\n",
              "<style scoped>\n",
              "    .dataframe tbody tr th:only-of-type {\n",
              "        vertical-align: middle;\n",
              "    }\n",
              "\n",
              "    .dataframe tbody tr th {\n",
              "        vertical-align: top;\n",
              "    }\n",
              "\n",
              "    .dataframe thead th {\n",
              "        text-align: right;\n",
              "    }\n",
              "</style>\n",
              "<table border=\"1\" class=\"dataframe\">\n",
              "  <thead>\n",
              "    <tr style=\"text-align: right;\">\n",
              "      <th></th>\n",
              "      <th>ibs</th>\n",
              "      <th>ibd</th>\n",
              "      <th>diet_type</th>\n",
              "      <th>bowel_movement_frequency</th>\n",
              "      <th>bowel_movement_quality</th>\n",
              "      <th>country_of_birth</th>\n",
              "      <th>taxonomy_diet_category</th>\n",
              "      <th>s__prausnitzii</th>\n",
              "      <th>s__biforme</th>\n",
              "      <th>s__uniformis</th>\n",
              "      <th>...</th>\n",
              "      <th>s__adolescentis</th>\n",
              "      <th>s__gnavus</th>\n",
              "      <th>s__johnsonii</th>\n",
              "      <th>s__caccae</th>\n",
              "      <th>s__luteciae</th>\n",
              "      <th>s__piliforme</th>\n",
              "      <th>s__ovatus</th>\n",
              "      <th>s__copri</th>\n",
              "      <th>s__nitroreducens</th>\n",
              "      <th>s__stercorea</th>\n",
              "    </tr>\n",
              "  </thead>\n",
              "  <tbody>\n",
              "    <tr>\n",
              "      <th>24171</th>\n",
              "      <td>I do not have this condition</td>\n",
              "      <td>NaN</td>\n",
              "      <td>Omnivore</td>\n",
              "      <td>One</td>\n",
              "      <td>I tend to have normal formed stool - type 3 and 4</td>\n",
              "      <td>United states</td>\n",
              "      <td>Hunter Gatherer</td>\n",
              "      <td>-0.028475</td>\n",
              "      <td>0.077916</td>\n",
              "      <td>NaN</td>\n",
              "      <td>...</td>\n",
              "      <td>NaN</td>\n",
              "      <td>NaN</td>\n",
              "      <td>0.011684</td>\n",
              "      <td>NaN</td>\n",
              "      <td>NaN</td>\n",
              "      <td>NaN</td>\n",
              "      <td>NaN</td>\n",
              "      <td>0.057611</td>\n",
              "      <td>-0.001025</td>\n",
              "      <td>0.105385</td>\n",
              "    </tr>\n",
              "  </tbody>\n",
              "</table>\n",
              "<p>1 rows × 39 columns</p>\n",
              "</div>\n",
              "    <div class=\"colab-df-buttons\">\n",
              "\n",
              "  <div class=\"colab-df-container\">\n",
              "    <button class=\"colab-df-convert\" onclick=\"convertToInteractive('df-17c2d13d-f802-4c5b-9ce1-84006da59965')\"\n",
              "            title=\"Convert this dataframe to an interactive table.\"\n",
              "            style=\"display:none;\">\n",
              "\n",
              "  <svg xmlns=\"http://www.w3.org/2000/svg\" height=\"24px\" viewBox=\"0 -960 960 960\">\n",
              "    <path d=\"M120-120v-720h720v720H120Zm60-500h600v-160H180v160Zm220 220h160v-160H400v160Zm0 220h160v-160H400v160ZM180-400h160v-160H180v160Zm440 0h160v-160H620v160ZM180-180h160v-160H180v160Zm440 0h160v-160H620v160Z\"/>\n",
              "  </svg>\n",
              "    </button>\n",
              "\n",
              "  <style>\n",
              "    .colab-df-container {\n",
              "      display:flex;\n",
              "      gap: 12px;\n",
              "    }\n",
              "\n",
              "    .colab-df-convert {\n",
              "      background-color: #E8F0FE;\n",
              "      border: none;\n",
              "      border-radius: 50%;\n",
              "      cursor: pointer;\n",
              "      display: none;\n",
              "      fill: #1967D2;\n",
              "      height: 32px;\n",
              "      padding: 0 0 0 0;\n",
              "      width: 32px;\n",
              "    }\n",
              "\n",
              "    .colab-df-convert:hover {\n",
              "      background-color: #E2EBFA;\n",
              "      box-shadow: 0px 1px 2px rgba(60, 64, 67, 0.3), 0px 1px 3px 1px rgba(60, 64, 67, 0.15);\n",
              "      fill: #174EA6;\n",
              "    }\n",
              "\n",
              "    .colab-df-buttons div {\n",
              "      margin-bottom: 4px;\n",
              "    }\n",
              "\n",
              "    [theme=dark] .colab-df-convert {\n",
              "      background-color: #3B4455;\n",
              "      fill: #D2E3FC;\n",
              "    }\n",
              "\n",
              "    [theme=dark] .colab-df-convert:hover {\n",
              "      background-color: #434B5C;\n",
              "      box-shadow: 0px 1px 3px 1px rgba(0, 0, 0, 0.15);\n",
              "      filter: drop-shadow(0px 1px 2px rgba(0, 0, 0, 0.3));\n",
              "      fill: #FFFFFF;\n",
              "    }\n",
              "  </style>\n",
              "\n",
              "    <script>\n",
              "      const buttonEl =\n",
              "        document.querySelector('#df-17c2d13d-f802-4c5b-9ce1-84006da59965 button.colab-df-convert');\n",
              "      buttonEl.style.display =\n",
              "        google.colab.kernel.accessAllowed ? 'block' : 'none';\n",
              "\n",
              "      async function convertToInteractive(key) {\n",
              "        const element = document.querySelector('#df-17c2d13d-f802-4c5b-9ce1-84006da59965');\n",
              "        const dataTable =\n",
              "          await google.colab.kernel.invokeFunction('convertToInteractive',\n",
              "                                                    [key], {});\n",
              "        if (!dataTable) return;\n",
              "\n",
              "        const docLinkHtml = 'Like what you see? Visit the ' +\n",
              "          '<a target=\"_blank\" href=https://colab.research.google.com/notebooks/data_table.ipynb>data table notebook</a>'\n",
              "          + ' to learn more about interactive tables.';\n",
              "        element.innerHTML = '';\n",
              "        dataTable['output_type'] = 'display_data';\n",
              "        await google.colab.output.renderOutput(dataTable, element);\n",
              "        const docLink = document.createElement('div');\n",
              "        docLink.innerHTML = docLinkHtml;\n",
              "        element.appendChild(docLink);\n",
              "      }\n",
              "    </script>\n",
              "  </div>\n",
              "\n",
              "\n",
              "    </div>\n",
              "  </div>\n"
            ],
            "application/vnd.google.colaboratory.intrinsic+json": {
              "type": "dataframe",
              "variable_name": "X_train"
            }
          },
          "metadata": {},
          "execution_count": 8
        }
      ]
    },
    {
      "cell_type": "code",
      "source": [
        "X_new"
      ],
      "metadata": {
        "colab": {
          "base_uri": "https://localhost:8080/",
          "height": 165
        },
        "id": "IRa-FAaaesW2",
        "outputId": "d6faafb5-55bb-4c62-cbad-51e9f14db13b"
      },
      "execution_count": null,
      "outputs": [
        {
          "output_type": "execute_result",
          "data": {
            "text/plain": [
              "                                ibs  ibd diet_type bowel_movement_frequency  \\\n",
              "24171  I do not have this condition  NaN  Omnivore                      One   \n",
              "\n",
              "                                  bowel_movement_quality country_of_birth  \\\n",
              "24171  I tend to have normal formed stool - type 3 and 4    United states   \n",
              "\n",
              "      taxonomy_diet_category s__prausnitzii s__biforme s__uniformis  ...  \\\n",
              "24171        Hunter gatherer            NaN        NaN          NaN  ...   \n",
              "\n",
              "      s__adolescentis s__gnavus s__johnsonii s__caccae s__luteciae  \\\n",
              "24171             NaN       NaN          NaN       NaN         NaN   \n",
              "\n",
              "      s__piliforme s__ovatus s__copri s__nitroreducens s__stercorea  \n",
              "24171          NaN       NaN      NaN              NaN          NaN  \n",
              "\n",
              "[1 rows x 39 columns]"
            ],
            "text/html": [
              "\n",
              "  <div id=\"df-8f705684-4db5-4ccd-ba2e-ffdcc1e8a3b8\" class=\"colab-df-container\">\n",
              "    <div>\n",
              "<style scoped>\n",
              "    .dataframe tbody tr th:only-of-type {\n",
              "        vertical-align: middle;\n",
              "    }\n",
              "\n",
              "    .dataframe tbody tr th {\n",
              "        vertical-align: top;\n",
              "    }\n",
              "\n",
              "    .dataframe thead th {\n",
              "        text-align: right;\n",
              "    }\n",
              "</style>\n",
              "<table border=\"1\" class=\"dataframe\">\n",
              "  <thead>\n",
              "    <tr style=\"text-align: right;\">\n",
              "      <th></th>\n",
              "      <th>ibs</th>\n",
              "      <th>ibd</th>\n",
              "      <th>diet_type</th>\n",
              "      <th>bowel_movement_frequency</th>\n",
              "      <th>bowel_movement_quality</th>\n",
              "      <th>country_of_birth</th>\n",
              "      <th>taxonomy_diet_category</th>\n",
              "      <th>s__prausnitzii</th>\n",
              "      <th>s__biforme</th>\n",
              "      <th>s__uniformis</th>\n",
              "      <th>...</th>\n",
              "      <th>s__adolescentis</th>\n",
              "      <th>s__gnavus</th>\n",
              "      <th>s__johnsonii</th>\n",
              "      <th>s__caccae</th>\n",
              "      <th>s__luteciae</th>\n",
              "      <th>s__piliforme</th>\n",
              "      <th>s__ovatus</th>\n",
              "      <th>s__copri</th>\n",
              "      <th>s__nitroreducens</th>\n",
              "      <th>s__stercorea</th>\n",
              "    </tr>\n",
              "  </thead>\n",
              "  <tbody>\n",
              "    <tr>\n",
              "      <th>24171</th>\n",
              "      <td>I do not have this condition</td>\n",
              "      <td>NaN</td>\n",
              "      <td>Omnivore</td>\n",
              "      <td>One</td>\n",
              "      <td>I tend to have normal formed stool - type 3 and 4</td>\n",
              "      <td>United states</td>\n",
              "      <td>Hunter gatherer</td>\n",
              "      <td>NaN</td>\n",
              "      <td>NaN</td>\n",
              "      <td>NaN</td>\n",
              "      <td>...</td>\n",
              "      <td>NaN</td>\n",
              "      <td>NaN</td>\n",
              "      <td>NaN</td>\n",
              "      <td>NaN</td>\n",
              "      <td>NaN</td>\n",
              "      <td>NaN</td>\n",
              "      <td>NaN</td>\n",
              "      <td>NaN</td>\n",
              "      <td>NaN</td>\n",
              "      <td>NaN</td>\n",
              "    </tr>\n",
              "  </tbody>\n",
              "</table>\n",
              "<p>1 rows × 39 columns</p>\n",
              "</div>\n",
              "    <div class=\"colab-df-buttons\">\n",
              "\n",
              "  <div class=\"colab-df-container\">\n",
              "    <button class=\"colab-df-convert\" onclick=\"convertToInteractive('df-8f705684-4db5-4ccd-ba2e-ffdcc1e8a3b8')\"\n",
              "            title=\"Convert this dataframe to an interactive table.\"\n",
              "            style=\"display:none;\">\n",
              "\n",
              "  <svg xmlns=\"http://www.w3.org/2000/svg\" height=\"24px\" viewBox=\"0 -960 960 960\">\n",
              "    <path d=\"M120-120v-720h720v720H120Zm60-500h600v-160H180v160Zm220 220h160v-160H400v160Zm0 220h160v-160H400v160ZM180-400h160v-160H180v160Zm440 0h160v-160H620v160ZM180-180h160v-160H180v160Zm440 0h160v-160H620v160Z\"/>\n",
              "  </svg>\n",
              "    </button>\n",
              "\n",
              "  <style>\n",
              "    .colab-df-container {\n",
              "      display:flex;\n",
              "      gap: 12px;\n",
              "    }\n",
              "\n",
              "    .colab-df-convert {\n",
              "      background-color: #E8F0FE;\n",
              "      border: none;\n",
              "      border-radius: 50%;\n",
              "      cursor: pointer;\n",
              "      display: none;\n",
              "      fill: #1967D2;\n",
              "      height: 32px;\n",
              "      padding: 0 0 0 0;\n",
              "      width: 32px;\n",
              "    }\n",
              "\n",
              "    .colab-df-convert:hover {\n",
              "      background-color: #E2EBFA;\n",
              "      box-shadow: 0px 1px 2px rgba(60, 64, 67, 0.3), 0px 1px 3px 1px rgba(60, 64, 67, 0.15);\n",
              "      fill: #174EA6;\n",
              "    }\n",
              "\n",
              "    .colab-df-buttons div {\n",
              "      margin-bottom: 4px;\n",
              "    }\n",
              "\n",
              "    [theme=dark] .colab-df-convert {\n",
              "      background-color: #3B4455;\n",
              "      fill: #D2E3FC;\n",
              "    }\n",
              "\n",
              "    [theme=dark] .colab-df-convert:hover {\n",
              "      background-color: #434B5C;\n",
              "      box-shadow: 0px 1px 3px 1px rgba(0, 0, 0, 0.15);\n",
              "      filter: drop-shadow(0px 1px 2px rgba(0, 0, 0, 0.3));\n",
              "      fill: #FFFFFF;\n",
              "    }\n",
              "  </style>\n",
              "\n",
              "    <script>\n",
              "      const buttonEl =\n",
              "        document.querySelector('#df-8f705684-4db5-4ccd-ba2e-ffdcc1e8a3b8 button.colab-df-convert');\n",
              "      buttonEl.style.display =\n",
              "        google.colab.kernel.accessAllowed ? 'block' : 'none';\n",
              "\n",
              "      async function convertToInteractive(key) {\n",
              "        const element = document.querySelector('#df-8f705684-4db5-4ccd-ba2e-ffdcc1e8a3b8');\n",
              "        const dataTable =\n",
              "          await google.colab.kernel.invokeFunction('convertToInteractive',\n",
              "                                                    [key], {});\n",
              "        if (!dataTable) return;\n",
              "\n",
              "        const docLinkHtml = 'Like what you see? Visit the ' +\n",
              "          '<a target=\"_blank\" href=https://colab.research.google.com/notebooks/data_table.ipynb>data table notebook</a>'\n",
              "          + ' to learn more about interactive tables.';\n",
              "        element.innerHTML = '';\n",
              "        dataTable['output_type'] = 'display_data';\n",
              "        await google.colab.output.renderOutput(dataTable, element);\n",
              "        const docLink = document.createElement('div');\n",
              "        docLink.innerHTML = docLinkHtml;\n",
              "        element.appendChild(docLink);\n",
              "      }\n",
              "    </script>\n",
              "  </div>\n",
              "\n",
              "\n",
              "  <div id=\"id_eb2aba0b-9323-4ed7-88a6-af4cae450e63\">\n",
              "    <style>\n",
              "      .colab-df-generate {\n",
              "        background-color: #E8F0FE;\n",
              "        border: none;\n",
              "        border-radius: 50%;\n",
              "        cursor: pointer;\n",
              "        display: none;\n",
              "        fill: #1967D2;\n",
              "        height: 32px;\n",
              "        padding: 0 0 0 0;\n",
              "        width: 32px;\n",
              "      }\n",
              "\n",
              "      .colab-df-generate:hover {\n",
              "        background-color: #E2EBFA;\n",
              "        box-shadow: 0px 1px 2px rgba(60, 64, 67, 0.3), 0px 1px 3px 1px rgba(60, 64, 67, 0.15);\n",
              "        fill: #174EA6;\n",
              "      }\n",
              "\n",
              "      [theme=dark] .colab-df-generate {\n",
              "        background-color: #3B4455;\n",
              "        fill: #D2E3FC;\n",
              "      }\n",
              "\n",
              "      [theme=dark] .colab-df-generate:hover {\n",
              "        background-color: #434B5C;\n",
              "        box-shadow: 0px 1px 3px 1px rgba(0, 0, 0, 0.15);\n",
              "        filter: drop-shadow(0px 1px 2px rgba(0, 0, 0, 0.3));\n",
              "        fill: #FFFFFF;\n",
              "      }\n",
              "    </style>\n",
              "    <button class=\"colab-df-generate\" onclick=\"generateWithVariable('X_new')\"\n",
              "            title=\"Generate code using this dataframe.\"\n",
              "            style=\"display:none;\">\n",
              "\n",
              "  <svg xmlns=\"http://www.w3.org/2000/svg\" height=\"24px\"viewBox=\"0 0 24 24\"\n",
              "       width=\"24px\">\n",
              "    <path d=\"M7,19H8.4L18.45,9,17,7.55,7,17.6ZM5,21V16.75L18.45,3.32a2,2,0,0,1,2.83,0l1.4,1.43a1.91,1.91,0,0,1,.58,1.4,1.91,1.91,0,0,1-.58,1.4L9.25,21ZM18.45,9,17,7.55Zm-12,3A5.31,5.31,0,0,0,4.9,8.1,5.31,5.31,0,0,0,1,6.5,5.31,5.31,0,0,0,4.9,4.9,5.31,5.31,0,0,0,6.5,1,5.31,5.31,0,0,0,8.1,4.9,5.31,5.31,0,0,0,12,6.5,5.46,5.46,0,0,0,6.5,12Z\"/>\n",
              "  </svg>\n",
              "    </button>\n",
              "    <script>\n",
              "      (() => {\n",
              "      const buttonEl =\n",
              "        document.querySelector('#id_eb2aba0b-9323-4ed7-88a6-af4cae450e63 button.colab-df-generate');\n",
              "      buttonEl.style.display =\n",
              "        google.colab.kernel.accessAllowed ? 'block' : 'none';\n",
              "\n",
              "      buttonEl.onclick = () => {\n",
              "        google.colab.notebook.generateWithVariable('X_new');\n",
              "      }\n",
              "      })();\n",
              "    </script>\n",
              "  </div>\n",
              "\n",
              "    </div>\n",
              "  </div>\n"
            ],
            "application/vnd.google.colaboratory.intrinsic+json": {
              "type": "dataframe",
              "variable_name": "X_new"
            }
          },
          "metadata": {},
          "execution_count": 9
        }
      ]
    },
    {
      "cell_type": "markdown",
      "source": [
        "**Feature Levels**\n",
        "\n",
        " Below are examples for the various selections available for each of the X-features, based on the range of unique values present in the training data."
      ],
      "metadata": {
        "id": "0IiUfBhcObxP"
      }
    },
    {
      "cell_type": "code",
      "source": [
        "complete_dataset_df_clean['country_of_birth'].unique() # Note capitalization should be the same as these levels"
      ],
      "metadata": {
        "colab": {
          "base_uri": "https://localhost:8080/"
        },
        "id": "2TfFvDhkP3gV",
        "outputId": "3d27ff8a-c89a-431f-bb8e-e0e4eeb1e8f8"
      },
      "execution_count": null,
      "outputs": [
        {
          "output_type": "execute_result",
          "data": {
            "text/plain": [
              "array(['United states', 'Turkey', 'Australia', nan, 'Singapore', 'Spain',\n",
              "       'Mexico', 'Czech republic', 'Trinidad and tobago', 'Canada',\n",
              "       'India', 'Belgium', 'Korea, republic of', 'Bangladesh',\n",
              "       'Philippines', 'Dominican republic', 'Moldova, republic of',\n",
              "       'China', 'Poland', 'Germany', 'Denmark', 'United kingdom',\n",
              "       'Ireland', 'Russian federation', 'Kenya', 'France', 'South africa',\n",
              "       'Venezuela', 'Guam', 'Argentina', 'Japan', 'Uruguay',\n",
              "       'Not provided', 'Greece', 'Switzerland', 'New zealand', 'Malawi',\n",
              "       'Finland', 'Puerto rico', 'Brazil', 'Kuwait', 'Hong kong',\n",
              "       'Pakistan', 'Italy', 'Jersey', 'Iran, islamic republic of',\n",
              "       'Romania', 'Zambia', 'Panama', 'Estonia', 'Chile', 'Croatia',\n",
              "       'Tanzania, united republic of', 'Syrian arab republic', 'Hungary',\n",
              "       'Uzbekistan', 'Gibraltar', 'Kazakhstan', 'Colombia', 'Norway',\n",
              "       'Ukraine', 'Albania', 'Serbia', 'Austria', 'Malaysia', 'Latvia',\n",
              "       'Nepal', 'Guatemala', 'Belarus', 'Ghana', 'Jamaica', 'Israel',\n",
              "       'Bolivia', 'Bulgaria', 'Portugal', 'Netherlands', 'Sweden',\n",
              "       'Viet nam', 'Mauritius', 'Tajikistan', 'Netherlands antilles',\n",
              "       'Thailand', 'Bahrain', 'Iceland', 'Uganda', 'Cyprus', 'Egypt',\n",
              "       'Cambodia', 'Luxembourg', 'Indonesia', 'Taiwan, province of china',\n",
              "       'Sri lanka', 'Slovenia', 'Peru', 'Not collected',\n",
              "       'Bosnia and herzegovina', 'United arab emirates',\n",
              "       'United states minor outlying islands', 'Saudi arabia', 'Mongolia',\n",
              "       'Malta', 'Zimbabwe', 'Libyan arab jamahiriya', 'Lithuania',\n",
              "       'Morocco', 'El salvador', 'Guernsey', 'Azerbaijan', 'Fiji',\n",
              "       'Tunisia', 'Virgin islands, u.s.', 'Nigeria', 'Costa rica', 'Cuba',\n",
              "       'Slovakia', 'Ethiopia', 'Afghanistan', \"Cote d'ivoire\", 'Algeria',\n",
              "       'Paraguay', 'Lebanon', 'Dominica', 'Bermuda', 'Angola', 'Somalia',\n",
              "       'Sudan', 'Guyana', 'Isle of man',\n",
              "       'Palestinian territory, occupied', 'Iraq', 'Botswana',\n",
              "       'Seychelles', 'Macedonia, the former yugoslav republic of',\n",
              "       'Georgia'], dtype=object)"
            ]
          },
          "metadata": {},
          "execution_count": 10
        }
      ]
    },
    {
      "cell_type": "code",
      "source": [
        "complete_dataset_df_clean['ibs'].unique()"
      ],
      "metadata": {
        "colab": {
          "base_uri": "https://localhost:8080/"
        },
        "id": "yPN-dpQTRusO",
        "outputId": "fd3d921d-0462-48e1-9be7-3ebc4dc18538"
      },
      "execution_count": null,
      "outputs": [
        {
          "output_type": "execute_result",
          "data": {
            "text/plain": [
              "array(['I do not have this condition',\n",
              "       'Diagnosed by a medical professional (doctor, physician assistant)',\n",
              "       nan, 'Self-diagnosed',\n",
              "       'Diagnosed by an alternative medicine practitioner',\n",
              "       'Not provided', 'Not collected'], dtype=object)"
            ]
          },
          "metadata": {},
          "execution_count": 11
        }
      ]
    },
    {
      "cell_type": "code",
      "source": [
        "complete_dataset_df_clean['ibd'].unique()"
      ],
      "metadata": {
        "colab": {
          "base_uri": "https://localhost:8080/"
        },
        "id": "I7UlyGQwR9dn",
        "outputId": "cea5a1a2-a606-4e42-93ae-7203bad0f889"
      },
      "execution_count": null,
      "outputs": [
        {
          "output_type": "execute_result",
          "data": {
            "text/plain": [
              "array(['I do not have this condition', nan,\n",
              "       'Diagnosed by a medical professional (doctor, physician assistant)',\n",
              "       'Diagnosed by an alternative medicine practitioner',\n",
              "       'Not provided', 'Not collected'], dtype=object)"
            ]
          },
          "metadata": {},
          "execution_count": 12
        }
      ]
    },
    {
      "cell_type": "code",
      "source": [
        "complete_dataset_df_clean['vegetable_frequency'].unique() # All food_category_frequency levels use these same values"
      ],
      "metadata": {
        "colab": {
          "base_uri": "https://localhost:8080/"
        },
        "id": "WddO1zXJYwcm",
        "outputId": "96a3d872-2766-4aa1-aa81-6a567332d459"
      },
      "execution_count": null,
      "outputs": [
        {
          "output_type": "execute_result",
          "data": {
            "text/plain": [
              "array(['Daily', 'Regularly (3-5 times/week)', nan,\n",
              "       'Occasionally (1-2 times/week)', 'Rarely (less than once/week)',\n",
              "       'Never', 'Not provided', 'Not collected'], dtype=object)"
            ]
          },
          "metadata": {},
          "execution_count": 13
        }
      ]
    },
    {
      "cell_type": "code",
      "source": [
        "complete_dataset_df_clean['bowel_movement_frequency'].unique()"
      ],
      "metadata": {
        "colab": {
          "base_uri": "https://localhost:8080/"
        },
        "id": "BgphveQkU2el",
        "outputId": "b71b15fc-dd22-46bc-c7af-e88a8525c58f"
      },
      "execution_count": null,
      "outputs": [
        {
          "output_type": "execute_result",
          "data": {
            "text/plain": [
              "array(['One', 'Two', nan, 'Less than one', 'Four', 'Three',\n",
              "       'Five or more', 'Not provided', 'Not collected'], dtype=object)"
            ]
          },
          "metadata": {},
          "execution_count": 14
        }
      ]
    },
    {
      "cell_type": "code",
      "source": [
        "complete_dataset_df_clean['bowel_movement_quality'].unique()"
      ],
      "metadata": {
        "colab": {
          "base_uri": "https://localhost:8080/"
        },
        "id": "vd2p5VsrqL21",
        "outputId": "10254d1e-312f-4c99-8dc8-2667f4d1c2de"
      },
      "execution_count": null,
      "outputs": [
        {
          "output_type": "execute_result",
          "data": {
            "text/plain": [
              "array(['I tend to have normal formed stool - type 3 and 4',\n",
              "       'I tend to have diarrhea (watery stool) - type 5, 6 and 7', nan,\n",
              "       'I tend to be constipated (have difficulty passing stool) - type 1 and 2',\n",
              "       \"I don't know, i do not have a point of reference\", 'Not provided',\n",
              "       'I tend to have normal formed stool',\n",
              "       'I tend to have diarrhea (watery stool)',\n",
              "       'I tend to be constipated (have difficulty passing stool)',\n",
              "       'Not collected'], dtype=object)"
            ]
          },
          "metadata": {},
          "execution_count": 15
        }
      ]
    },
    {
      "cell_type": "code",
      "source": [
        "# # Defining Plants as diets self reported as Vegetarian or Vegan\n",
        "# complete_dataset_df_clean.loc[complete_dataset_df_clean['diet_type'] == 'Vegetarian', 'taxonomy_diet_category'] = 'Plants'\n",
        "# complete_dataset_df_clean.loc[complete_dataset_df_clean['diet_type'] == 'Vegan', 'taxonomy_diet_category'] = 'Plants'\n",
        "\n",
        "# # Hunter Gatherer defined as Omnivore and Vegetarian but eat seafood\n",
        "# complete_dataset_df_clean.loc[complete_dataset_df_clean['diet_type'] == 'Omnivore', 'taxonomy_diet_category'] = 'Hunter Gatherer'\n",
        "# complete_dataset_df_clean.loc[complete_dataset_df_clean['diet_type'] == 'Vegetarian but eat seafood', 'taxonomy_diet_category'] = 'Hunter Gatherer'\n",
        "\n",
        "# # Remote Farmer defined as Omnivore but do not eat red meat\n",
        "# complete_dataset_df_clean.loc[complete_dataset_df_clean['diet_type'] == 'Omnivore but do not eat red meat', 'taxonomy_diet_category'] = 'Remote Farmer'\n",
        "\n",
        "# # Country definition includes all else\n",
        "# complete_dataset_df_clean.loc[complete_dataset_df_clean['taxonomy_diet_category'].isna(), 'taxonomy_diet_category'] = 'Country'"
      ],
      "metadata": {
        "id": "HQFsyIs6Sj1x"
      },
      "execution_count": null,
      "outputs": []
    },
    {
      "cell_type": "code",
      "source": [
        "# The s__taxa_name categories for the taxonomy would be submitted as numerical values\n",
        "# Normally this would be input with a file from an individual's test results\n",
        "# But we could also input those manually for the prototype\n",
        "# List of all columns with s__ as its prefix\n",
        "s_columns = [col for col in X_train.columns if col.startswith('s__')]\n",
        "s_columns"
      ],
      "metadata": {
        "id": "qUsb23Z_SJfv",
        "colab": {
          "base_uri": "https://localhost:8080/"
        },
        "outputId": "90173781-e0d6-4cc8-db19-fcff1dd57269"
      },
      "execution_count": null,
      "outputs": [
        {
          "output_type": "execute_result",
          "data": {
            "text/plain": [
              "['s__prausnitzii',\n",
              " 's__biforme',\n",
              " 's__uniformis',\n",
              " 's__mucosae',\n",
              " 's__catus',\n",
              " 's__bromii',\n",
              " 's__diminuta',\n",
              " 's__rhizosphaerae',\n",
              " 's__dispar',\n",
              " 's__obeum',\n",
              " 's__faecis',\n",
              " 's__ruminis',\n",
              " 's__veronii',\n",
              " 's__mucilaginosa',\n",
              " 's__eutactus',\n",
              " 's__parainfluenzae',\n",
              " 's__acidaminiphila',\n",
              " 's__lwoffii',\n",
              " 's__stutzeri',\n",
              " 's__muciniphila',\n",
              " 's__perfringens',\n",
              " 's__aerofaciens',\n",
              " 's__adolescentis',\n",
              " 's__gnavus',\n",
              " 's__johnsonii',\n",
              " 's__caccae',\n",
              " 's__luteciae',\n",
              " 's__piliforme',\n",
              " 's__ovatus',\n",
              " 's__copri',\n",
              " 's__nitroreducens',\n",
              " 's__stercorea']"
            ]
          },
          "metadata": {},
          "execution_count": 17
        }
      ]
    },
    {
      "cell_type": "code",
      "source": [
        "# The collective minimum and maximum values, from all the s__ taxa columns\n",
        "# (The range of present values taxa values would fall under)\n",
        "print(X_train[s_columns].min().min())\n",
        "print(X_train[s_columns].max().max())"
      ],
      "metadata": {
        "colab": {
          "base_uri": "https://localhost:8080/"
        },
        "id": "yh_HMXEIVIiA",
        "outputId": "5e29096f-7043-442f-c835-583f4c9ede49"
      },
      "execution_count": null,
      "outputs": [
        {
          "output_type": "stream",
          "name": "stdout",
          "text": [
            "-0.0413280996\n",
            "0.1833032827\n"
          ]
        }
      ]
    },
    {
      "cell_type": "code",
      "source": [
        "# Load required joblib files, model, encoder, scaler, X_train, and y_features\n",
        "# May take some time (a few minutes) because the model file is nearly 5GB\n",
        "# Best loaded individually due to the RAM usage of loading the model\n",
        "random_forest = joblib.load(model_save_path)"
      ],
      "metadata": {
        "id": "MC3V0dZpxjf3"
      },
      "execution_count": null,
      "outputs": []
    },
    {
      "cell_type": "code",
      "source": [
        "encoder = joblib.load(os.path.join(drive_path, encoder_filename))\n",
        "scaler = joblib.load(os.path.join(drive_path, scaler_filename))\n",
        "X_train = joblib.load(os.path.join(drive_path, 'xtrain_dataframe.joblib'))\n",
        "y_features = joblib.load(os.path.join(drive_path, 'y_features_list.joblib'))"
      ],
      "metadata": {
        "id": "QA9lT5PPzvlu"
      },
      "execution_count": null,
      "outputs": []
    },
    {
      "cell_type": "code",
      "source": [
        "# If not already imported\n",
        "from sklearn.preprocessing import LabelEncoder, StandardScaler\n",
        "import pandas as pd\n",
        "import numpy as np\n",
        "\n",
        "def predict_dietary_recommendations(input_data, model, encoder, scaler, X_features, y_features, unique_species, original_data_for_encoding):\n",
        "    \"\"\"\n",
        "    Preprocesses input data, makes a prediction using the trained random forest model,\n",
        "    and returns the unencoded predictions with dietary recommendations.\n",
        "\n",
        "    Args:\n",
        "        input_data (dict): A dictionary containing the new data for prediction,\n",
        "                           with keys corresponding to the original feature names (so they aren't lost during encoding and scaling).\n",
        "        model: The trained machine learning model (RandomForestClassifier, loaded from our file).\n",
        "        encoder: The fitted LabelEncoder used for categorical features (the same one used to train the model).\n",
        "        scaler: The fitted StandardScaler used for numerical features (also the same one used to train the model).\n",
        "        X_features (list): A list of the original feature names used for training X.\n",
        "        y_features (list): A list of the original target feature names used for training y.\n",
        "        unique_species (list): A list of unique species names for taxonomic features.\n",
        "        original_data_for_encoding (pd.DataFrame): The original DataFrame used to fit the encoder,\n",
        "                                                  needed for inverse transforming predictions.\n",
        "\n",
        "    Returns:\n",
        "        A Pandas DataFrame containing the unencoded dietary recommendations\n",
        "                      and additional columns for recommended adjustments.\n",
        "    \"\"\"\n",
        "    # Create a DataFrame from the input data (from the Streamlit app prototype)\n",
        "    X_new = pd.DataFrame([input_data])\n",
        "    original_data = pd.DataFrame([input_data]) # To save all inputs\n",
        "\n",
        "    # Add metagenome taxonomic columns to X_new and fill with 0 if not present\n",
        "    for species in unique_species:\n",
        "        if species not in X_new.columns:\n",
        "            X_new[species] = 0\n",
        "\n",
        "    # Convert numerical inputs from a bowel_movement_frequency_numerical column into the text-based bowel_movement_frequency_column\n",
        "    for index, row in X_new.iterrows():\n",
        "        if 'bowel_movement_frequency_numerical' in row and not pd.isna(row['bowel_movement_frequency_numerical']):\n",
        "            freq = int(row['bowel_movement_frequency_numerical'])\n",
        "            if freq == 1:\n",
        "                X_new.loc[index, 'bowel_movement_frequency'] = 'One'\n",
        "            elif freq == 2:\n",
        "                X_new.loc[index, 'bowel_movement_frequency'] = 'Two'\n",
        "            elif freq == 3:\n",
        "                X_new.loc[index, 'bowel_movement_frequency'] = 'Three'\n",
        "            elif freq == 4:\n",
        "                X_new.loc[index, 'bowel_movement_frequency'] = 'Four'\n",
        "            elif freq >= 5:\n",
        "                X_new.loc[index, 'bowel_movement_frequency'] = 'Five or more'\n",
        "\n",
        "    # Determine taxonomy diet category\n",
        "    X_new.loc[X_new['diet_type'] == 'Vegetarian', 'taxonomy_diet_category'] = 'Plants'\n",
        "    X_new.loc[X_new['diet_type'] == 'Vegan', 'taxonomy_diet_category'] = 'Plants'\n",
        "\n",
        "    X_new.loc[X_new['diet_type'] == 'Omnivore', 'taxonomy_diet_category'] = 'Hunter Gatherer'\n",
        "    X_new.loc[X_new['diet_type'] == 'Vegetarian but eat seafood', 'taxonomy_diet_category'] = 'Hunter Gatherer'\n",
        "\n",
        "    X_new.loc[X_new['diet_type'] == 'Omnivore but do not eat red meat', 'taxonomy_diet_category'] = 'Remote Farmer'\n",
        "\n",
        "    X_new.loc[X_new['taxonomy_diet_category'].isna(), 'taxonomy_diet_category'] = 'Country'\n",
        "\n",
        "    # Ensure X_new has the same columns as X_features (including taxonomic) and in the correct order\n",
        "    all_X_cols = X_features + unique_species\n",
        "    X_new = X_new.reindex(columns=all_X_cols, fill_value=0)\n",
        "\n",
        "    # Drop columns not in scope of the set X_features\n",
        "    X_new = X_new[X_features]\n",
        "\n",
        "    # Manually encode categorical features using the existing encoder\n",
        "    X_new_encoded = pd.DataFrame(index=X_new.index) # Create an empty DataFrame to store encoded features\n",
        "\n",
        "    for column in X_features:\n",
        "        if column in X_new.columns:\n",
        "            encoded_column_name = str(column) + '_encoded'\n",
        "            # Check if the encoder has seen this category\n",
        "            # Use .iloc[:, 0] to get the Series for a single-row DataFrame\n",
        "            if column in encoder.classes_:\n",
        "                 X_new_encoded[encoded_column_name] = encoder.transform(X_new[column].iloc[:, 0])\n",
        "            else:\n",
        "                # Handle unseen categories - assign a placeholder like -1 or NaN\n",
        "                X_new_encoded[encoded_column_name] = -1 # Assign a placeholder for unseen categories\n",
        "\n",
        "    # Add taxonomic columns to the encoded dataframe (they are already numeric)\n",
        "    for species in unique_species:\n",
        "        if species in X_new.columns:\n",
        "             # Use .iloc[:, 0] to get the Series for a single-row DataFrame\n",
        "             X_new_encoded[species + '_encoded'] = pd.to_numeric(X_new[species].iloc[:, 0], errors='coerce').fillna(0)\n",
        "        else:\n",
        "             X_new_encoded[species + '_encoded'] = 0 # Add missing taxonomic columns and fill with 0\n",
        "\n",
        "\n",
        "    # Reorder columns in X_new_encoded to match the order of X_train (assuming X_train is available in the global scope)\n",
        "    # A more robust solution would be to save and load the column order\n",
        "    # For now, we'll rely on X_train being in the global scope\n",
        "    try:\n",
        "        X_new_encoded = X_new_encoded[X_train.columns]\n",
        "    except NameError:\n",
        "        print(\"Warning: X_train not found in global scope. Column order might be incorrect.\")\n",
        "        # In a real application, you would save and load the training column order\n",
        "\n",
        "\n",
        "    # Refit the scaler on the encoded training data (X_train)\n",
        "    scaler = StandardScaler()\n",
        "    X_train_scaled = scaler.fit_transform(X_train)\n",
        "\n",
        "\n",
        "    # Scale the processed new data using the refitted scaler\n",
        "    X_new_scaled = scaler.transform(X_new_encoded)\n",
        "\n",
        "    # Make prediction\n",
        "    y_pred_new = model.predict(X_new_scaled)\n",
        "\n",
        "    # Inverse transform the predictions to get the original labels\n",
        "    y_pred_unencoded = {}\n",
        "    # Get the original unencoded training data for inverse transformation\n",
        "    X_train_indices = X_train.index\n",
        "    y_train_original = original_data_for_encoding.loc[X_train_indices, y_features] # Use original_data_for_encoding here\n",
        "\n",
        "    for i, column in enumerate(y_features):\n",
        "        # Get the original unencoded data for this column from the training set\n",
        "        original_column_data = y_train_original[column].dropna()\n",
        "\n",
        "        # Create and fit a temporary LabelEncoder on the unique values of the original training data for this column\n",
        "        temp_encoder = LabelEncoder()\n",
        "        temp_encoder.fit(original_column_data.unique()) # Fit on unique non-null values from original training data\n",
        "\n",
        "        # Inverse transform the predictions for this column\n",
        "        y_pred_unencoded[column] = temp_encoder.inverse_transform(y_pred_new[:, i])\n",
        "\n",
        "    # Convert the unencoded predictions back to a DataFrame for better readability\n",
        "    y_pred_unencoded_df = pd.DataFrame(y_pred_unencoded)\n",
        "\n",
        "    # Add dietary recommendations based on X_new and y_pred_unencoded_df\n",
        "    recommendations = {}\n",
        "\n",
        "    # Increased Fiber Recommendation\n",
        "    bowel_movement_quality = X_new['bowel_movement_quality'].iloc[0] if 'bowel_movement_quality' in X_new.columns else None\n",
        "    vegetable_frequency = y_pred_unencoded_df['vegetable_frequency'].iloc[0] if 'vegetable_frequency' in y_pred_unencoded_df.columns else None\n",
        "    bowel_movement_frequency = X_new['bowel_movement_frequency'].iloc[0] if 'bowel_movement_frequency' in X_new.columns else None\n",
        "\n",
        "    if (bowel_movement_quality is not None and 'constipated' in str(bowel_movement_quality).lower()) or \\\n",
        "       (vegetable_frequency is not None and vegetable_frequency not in ['Daily', 'Regularly (3-5 times/week)', 'Never', 'Not provided', 'Not collected']) or \\\n",
        "       (bowel_movement_frequency is not None and bowel_movement_frequency in ['Four', 'Five or more']):\n",
        "        recommendations['Increased Fiber Recommendation'] = 'Consider increasing fiber intake, including addition of soluble fiber-rich vegetables.'\n",
        "    else:\n",
        "        recommendations['Increased Fiber Recommendation'] = np.nan\n",
        "\n",
        "    # Low FODMAP Recommendation\n",
        "    ibs_status = X_new['ibs'].iloc[0] if 'ibs' in X_new.columns else None\n",
        "    ibd_status = X_new['ibd'].iloc[0] if 'ibd' in X_new.columns else None\n",
        "\n",
        "    if (ibs_status is not None and ibs_status not in [np.nan, 'I do not have this condition', 'Unspecified', 'Not provided', 'Not collected']) or \\\n",
        "       (ibd_status is not None and ibd_status not in [np.nan, 'I do not have this condition', 'Unspecified', 'Not provided', 'Not collected']):\n",
        "        recommendations['Low FODMAP Recommendation'] = 'Consider a Low FODMAP diet with decreased carbohydrates.'\n",
        "    else:\n",
        "        recommendations['Low FODMAP Recommendation'] = np.nan\n",
        "\n",
        "    # Reduce Dairy Intake Recommendation\n",
        "    milk_cheese_frequency = y_pred_unencoded_df['milk_cheese_frequency'].iloc[0] if 'milk_cheese_frequency' in y_pred_unencoded_df.columns else None\n",
        "\n",
        "    # No need to recommend the reduction of food categories the individual already indicated they don't include in their diet\n",
        "    if 'dairy_indicated' in original_data.columns and original_data['dairy_indicated'].iloc[0] == 'No':\n",
        "        recommendations['Reduce Dairy Recommendation'] = np.nan\n",
        "    elif (milk_cheese_frequency is not None and milk_cheese_frequency not in ['Rarely (less than once/week)', 'Never', 'Not provided', 'Not collected']) and \\\n",
        "       ((ibs_status is not None and ibs_status not in [np.nan, 'I do not have this condition', 'Unspecified', 'Not provided', 'Not collected']) or \\\n",
        "        (ibd_status is not None and ibd_status not in [np.nan, 'I do not have this condition', 'Unspecified', 'Not provided', 'Not collected'])):\n",
        "        recommendations['Reduce Dairy Recommendation'] = 'Consider reducing dairy intake or using dairy substitutes (such as soy or almond milk).'\n",
        "    else:\n",
        "        recommendations['Reduce Dairy Recommendation'] = np.nan\n",
        "\n",
        "    # Reduce Red Meat Intake Recommendation\n",
        "    red_meat_frequency = y_pred_unencoded_df['red_meat_frequency'].iloc[0] if 'red_meat_frequency' in y_pred_unencoded_df.columns else None\n",
        "\n",
        "    if 'red_meat_indicated' in original_data.columns and original_data['red_meat_indicated'].iloc[0] == 'No':\n",
        "        recommendations['Reduce Red Meat Recommendation'] = np.nan\n",
        "    elif (red_meat_frequency is not None and red_meat_frequency not in ['Rarely (less than once/week)', 'Occasionally (1-2 times/week)', 'Never', 'Not provided', 'Not collected']) and \\\n",
        "       ((ibs_status is not None and ibs_status not in [np.nan, 'I do not have this condition', 'Unspecified', 'Not provided', 'Not collected']) or \\\n",
        "        (ibd_status is not None and ibd_status not in [np.nan, 'I do not have this condition', 'Unspecified', 'Not provided', 'Not collected'])):\n",
        "        recommendations['Reduce Red Meat Recommendation'] = 'Consider reducing red meat intake.'\n",
        "    else:\n",
        "        recommendations['Reduce Red Meat Recommendation'] = np.nan\n",
        "\n",
        "    # Reduce Alcohol Intake Recommendation\n",
        "    alcohol_frequency = y_pred_unencoded_df['alcohol_frequency'].iloc[0] if 'alcohol_frequency' in y_pred_unencoded_df.columns else None\n",
        "    if 'alcohol_indicated' in original_data.columns and original_data['alcohol_indicated'].iloc[0] == 'No':\n",
        "        recommendations['Reduce Alcohol Recommendation'] = np.nan\n",
        "    elif (alcohol_frequency is not None and alcohol_frequency not in ['Rarely (a few times/month)', 'Never', 'Not provided', 'Not collected']) or \\\n",
        "       (alcohol_frequency is not None and alcohol_frequency in ['Regularly (3-5 times/week)', 'Daily']):\n",
        "        recommendations['Reduce Alcohol Recommendation'] = 'Consider reducing alcohol intake.'\n",
        "    else:\n",
        "        recommendations['Reduce Alcohol Recommendation'] = np.nan\n",
        "\n",
        "\n",
        "    # Add recommendations to the output DataFrame\n",
        "    for rec, text in recommendations.items():\n",
        "        y_pred_unencoded_df[rec] = text\n",
        "\n",
        "    return y_pred_unencoded_df"
      ],
      "metadata": {
        "id": "S_UWANr4U2Rt"
      },
      "execution_count": null,
      "outputs": []
    },
    {
      "cell_type": "markdown",
      "source": [
        "With the model itself loaded, as well as the label encoder (to convert column values to numerical categories) and the scaler (to standardize values), user data can be sent into the model using the above function."
      ],
      "metadata": {
        "id": "M9CakJX3zwth"
      }
    },
    {
      "cell_type": "code",
      "source": [
        "# Test the predict_dietary_recommendations function with X_new\n",
        "predicted_diet_from_X_new = predict_dietary_recommendations(\n",
        "    X_new.iloc[0].to_dict(), # Pass the first row of X_new as a dictionary\n",
        "    random_forest,\n",
        "    encoder,\n",
        "    scaler,\n",
        "    X_features,\n",
        "    y_features,\n",
        "    unique_species,\n",
        "    complete_dataset_df_clean # Pass the original data for inverse encoding\n",
        ")\n",
        "\n",
        "# Display the predicted dietary recommendations\n",
        "print(\"Predicted Dietary Recommendations for X_new:\")\n",
        "display(predicted_diet_from_X_new)"
      ],
      "metadata": {
        "id": "QKOcAdAbxapX",
        "colab": {
          "base_uri": "https://localhost:8080/",
          "height": 239
        },
        "outputId": "026d1cfc-0f93-429a-c380-aa009583624c"
      },
      "execution_count": null,
      "outputs": [
        {
          "output_type": "stream",
          "name": "stderr",
          "text": [
            "/usr/local/lib/python3.12/dist-packages/sklearn/utils/validation.py:2739: UserWarning: X does not have valid feature names, but RandomForestClassifier was fitted with feature names\n",
            "  warnings.warn(\n"
          ]
        },
        {
          "output_type": "stream",
          "name": "stdout",
          "text": [
            "Predicted Dietary Recommendations for X_new:\n"
          ]
        },
        {
          "output_type": "display_data",
          "data": {
            "text/plain": [
              "  vegetable_frequency             red_meat_frequency  \\\n",
              "0               Daily  Occasionally (1-2 times/week)   \n",
              "\n",
              "           whole_grain_frequency alcohol_frequency  \\\n",
              "0  Occasionally (1-2 times/week)             Never   \n",
              "\n",
              "          milk_cheese_frequency gluten softener  \\\n",
              "0  Rarely (less than once/week)     No    False   \n",
              "\n",
              "   Increased Fiber Recommendation  \\\n",
              "0                             NaN   \n",
              "\n",
              "                           Low FODMAP Recommendation  \\\n",
              "0  Consider a Low FODMAP diet with decreased carb...   \n",
              "\n",
              "   Reduce Dairy Recommendation  Reduce Red Meat Recommendation  \\\n",
              "0                          NaN                             NaN   \n",
              "\n",
              "   Reduce Alcohol Recommendation  \n",
              "0                            NaN  "
            ],
            "text/html": [
              "\n",
              "  <div id=\"df-8c209756-83f8-41ca-b615-425902d951cd\" class=\"colab-df-container\">\n",
              "    <div>\n",
              "<style scoped>\n",
              "    .dataframe tbody tr th:only-of-type {\n",
              "        vertical-align: middle;\n",
              "    }\n",
              "\n",
              "    .dataframe tbody tr th {\n",
              "        vertical-align: top;\n",
              "    }\n",
              "\n",
              "    .dataframe thead th {\n",
              "        text-align: right;\n",
              "    }\n",
              "</style>\n",
              "<table border=\"1\" class=\"dataframe\">\n",
              "  <thead>\n",
              "    <tr style=\"text-align: right;\">\n",
              "      <th></th>\n",
              "      <th>vegetable_frequency</th>\n",
              "      <th>red_meat_frequency</th>\n",
              "      <th>whole_grain_frequency</th>\n",
              "      <th>alcohol_frequency</th>\n",
              "      <th>milk_cheese_frequency</th>\n",
              "      <th>gluten</th>\n",
              "      <th>softener</th>\n",
              "      <th>Increased Fiber Recommendation</th>\n",
              "      <th>Low FODMAP Recommendation</th>\n",
              "      <th>Reduce Dairy Recommendation</th>\n",
              "      <th>Reduce Red Meat Recommendation</th>\n",
              "      <th>Reduce Alcohol Recommendation</th>\n",
              "    </tr>\n",
              "  </thead>\n",
              "  <tbody>\n",
              "    <tr>\n",
              "      <th>0</th>\n",
              "      <td>Daily</td>\n",
              "      <td>Occasionally (1-2 times/week)</td>\n",
              "      <td>Occasionally (1-2 times/week)</td>\n",
              "      <td>Never</td>\n",
              "      <td>Rarely (less than once/week)</td>\n",
              "      <td>No</td>\n",
              "      <td>False</td>\n",
              "      <td>NaN</td>\n",
              "      <td>Consider a Low FODMAP diet with decreased carb...</td>\n",
              "      <td>NaN</td>\n",
              "      <td>NaN</td>\n",
              "      <td>NaN</td>\n",
              "    </tr>\n",
              "  </tbody>\n",
              "</table>\n",
              "</div>\n",
              "    <div class=\"colab-df-buttons\">\n",
              "\n",
              "  <div class=\"colab-df-container\">\n",
              "    <button class=\"colab-df-convert\" onclick=\"convertToInteractive('df-8c209756-83f8-41ca-b615-425902d951cd')\"\n",
              "            title=\"Convert this dataframe to an interactive table.\"\n",
              "            style=\"display:none;\">\n",
              "\n",
              "  <svg xmlns=\"http://www.w3.org/2000/svg\" height=\"24px\" viewBox=\"0 -960 960 960\">\n",
              "    <path d=\"M120-120v-720h720v720H120Zm60-500h600v-160H180v160Zm220 220h160v-160H400v160Zm0 220h160v-160H400v160ZM180-400h160v-160H180v160Zm440 0h160v-160H620v160ZM180-180h160v-160H180v160Zm440 0h160v-160H620v160Z\"/>\n",
              "  </svg>\n",
              "    </button>\n",
              "\n",
              "  <style>\n",
              "    .colab-df-container {\n",
              "      display:flex;\n",
              "      gap: 12px;\n",
              "    }\n",
              "\n",
              "    .colab-df-convert {\n",
              "      background-color: #E8F0FE;\n",
              "      border: none;\n",
              "      border-radius: 50%;\n",
              "      cursor: pointer;\n",
              "      display: none;\n",
              "      fill: #1967D2;\n",
              "      height: 32px;\n",
              "      padding: 0 0 0 0;\n",
              "      width: 32px;\n",
              "    }\n",
              "\n",
              "    .colab-df-convert:hover {\n",
              "      background-color: #E2EBFA;\n",
              "      box-shadow: 0px 1px 2px rgba(60, 64, 67, 0.3), 0px 1px 3px 1px rgba(60, 64, 67, 0.15);\n",
              "      fill: #174EA6;\n",
              "    }\n",
              "\n",
              "    .colab-df-buttons div {\n",
              "      margin-bottom: 4px;\n",
              "    }\n",
              "\n",
              "    [theme=dark] .colab-df-convert {\n",
              "      background-color: #3B4455;\n",
              "      fill: #D2E3FC;\n",
              "    }\n",
              "\n",
              "    [theme=dark] .colab-df-convert:hover {\n",
              "      background-color: #434B5C;\n",
              "      box-shadow: 0px 1px 3px 1px rgba(0, 0, 0, 0.15);\n",
              "      filter: drop-shadow(0px 1px 2px rgba(0, 0, 0, 0.3));\n",
              "      fill: #FFFFFF;\n",
              "    }\n",
              "  </style>\n",
              "\n",
              "    <script>\n",
              "      const buttonEl =\n",
              "        document.querySelector('#df-8c209756-83f8-41ca-b615-425902d951cd button.colab-df-convert');\n",
              "      buttonEl.style.display =\n",
              "        google.colab.kernel.accessAllowed ? 'block' : 'none';\n",
              "\n",
              "      async function convertToInteractive(key) {\n",
              "        const element = document.querySelector('#df-8c209756-83f8-41ca-b615-425902d951cd');\n",
              "        const dataTable =\n",
              "          await google.colab.kernel.invokeFunction('convertToInteractive',\n",
              "                                                    [key], {});\n",
              "        if (!dataTable) return;\n",
              "\n",
              "        const docLinkHtml = 'Like what you see? Visit the ' +\n",
              "          '<a target=\"_blank\" href=https://colab.research.google.com/notebooks/data_table.ipynb>data table notebook</a>'\n",
              "          + ' to learn more about interactive tables.';\n",
              "        element.innerHTML = '';\n",
              "        dataTable['output_type'] = 'display_data';\n",
              "        await google.colab.output.renderOutput(dataTable, element);\n",
              "        const docLink = document.createElement('div');\n",
              "        docLink.innerHTML = docLinkHtml;\n",
              "        element.appendChild(docLink);\n",
              "      }\n",
              "    </script>\n",
              "  </div>\n",
              "\n",
              "\n",
              "  <div id=\"id_e3ca40d6-839e-4149-b97e-afc281583200\">\n",
              "    <style>\n",
              "      .colab-df-generate {\n",
              "        background-color: #E8F0FE;\n",
              "        border: none;\n",
              "        border-radius: 50%;\n",
              "        cursor: pointer;\n",
              "        display: none;\n",
              "        fill: #1967D2;\n",
              "        height: 32px;\n",
              "        padding: 0 0 0 0;\n",
              "        width: 32px;\n",
              "      }\n",
              "\n",
              "      .colab-df-generate:hover {\n",
              "        background-color: #E2EBFA;\n",
              "        box-shadow: 0px 1px 2px rgba(60, 64, 67, 0.3), 0px 1px 3px 1px rgba(60, 64, 67, 0.15);\n",
              "        fill: #174EA6;\n",
              "      }\n",
              "\n",
              "      [theme=dark] .colab-df-generate {\n",
              "        background-color: #3B4455;\n",
              "        fill: #D2E3FC;\n",
              "      }\n",
              "\n",
              "      [theme=dark] .colab-df-generate:hover {\n",
              "        background-color: #434B5C;\n",
              "        box-shadow: 0px 1px 3px 1px rgba(0, 0, 0, 0.15);\n",
              "        filter: drop-shadow(0px 1px 2px rgba(0, 0, 0, 0.3));\n",
              "        fill: #FFFFFF;\n",
              "      }\n",
              "    </style>\n",
              "    <button class=\"colab-df-generate\" onclick=\"generateWithVariable('predicted_diet_from_X_new')\"\n",
              "            title=\"Generate code using this dataframe.\"\n",
              "            style=\"display:none;\">\n",
              "\n",
              "  <svg xmlns=\"http://www.w3.org/2000/svg\" height=\"24px\"viewBox=\"0 0 24 24\"\n",
              "       width=\"24px\">\n",
              "    <path d=\"M7,19H8.4L18.45,9,17,7.55,7,17.6ZM5,21V16.75L18.45,3.32a2,2,0,0,1,2.83,0l1.4,1.43a1.91,1.91,0,0,1,.58,1.4,1.91,1.91,0,0,1-.58,1.4L9.25,21ZM18.45,9,17,7.55Zm-12,3A5.31,5.31,0,0,0,4.9,8.1,5.31,5.31,0,0,0,1,6.5,5.31,5.31,0,0,0,4.9,4.9,5.31,5.31,0,0,0,6.5,1,5.31,5.31,0,0,0,8.1,4.9,5.31,5.31,0,0,0,12,6.5,5.46,5.46,0,0,0,6.5,12Z\"/>\n",
              "  </svg>\n",
              "    </button>\n",
              "    <script>\n",
              "      (() => {\n",
              "      const buttonEl =\n",
              "        document.querySelector('#id_e3ca40d6-839e-4149-b97e-afc281583200 button.colab-df-generate');\n",
              "      buttonEl.style.display =\n",
              "        google.colab.kernel.accessAllowed ? 'block' : 'none';\n",
              "\n",
              "      buttonEl.onclick = () => {\n",
              "        google.colab.notebook.generateWithVariable('predicted_diet_from_X_new');\n",
              "      }\n",
              "      })();\n",
              "    </script>\n",
              "  </div>\n",
              "\n",
              "    </div>\n",
              "  </div>\n"
            ],
            "application/vnd.google.colaboratory.intrinsic+json": {
              "type": "dataframe",
              "variable_name": "predicted_diet_from_X_new",
              "summary": "{\n  \"name\": \"predicted_diet_from_X_new\",\n  \"rows\": 1,\n  \"fields\": [\n    {\n      \"column\": \"vegetable_frequency\",\n      \"properties\": {\n        \"dtype\": \"string\",\n        \"num_unique_values\": 1,\n        \"samples\": [\n          \"Daily\"\n        ],\n        \"semantic_type\": \"\",\n        \"description\": \"\"\n      }\n    },\n    {\n      \"column\": \"red_meat_frequency\",\n      \"properties\": {\n        \"dtype\": \"string\",\n        \"num_unique_values\": 1,\n        \"samples\": [\n          \"Occasionally (1-2 times/week)\"\n        ],\n        \"semantic_type\": \"\",\n        \"description\": \"\"\n      }\n    },\n    {\n      \"column\": \"whole_grain_frequency\",\n      \"properties\": {\n        \"dtype\": \"string\",\n        \"num_unique_values\": 1,\n        \"samples\": [\n          \"Occasionally (1-2 times/week)\"\n        ],\n        \"semantic_type\": \"\",\n        \"description\": \"\"\n      }\n    },\n    {\n      \"column\": \"alcohol_frequency\",\n      \"properties\": {\n        \"dtype\": \"string\",\n        \"num_unique_values\": 1,\n        \"samples\": [\n          \"Never\"\n        ],\n        \"semantic_type\": \"\",\n        \"description\": \"\"\n      }\n    },\n    {\n      \"column\": \"milk_cheese_frequency\",\n      \"properties\": {\n        \"dtype\": \"string\",\n        \"num_unique_values\": 1,\n        \"samples\": [\n          \"Rarely (less than once/week)\"\n        ],\n        \"semantic_type\": \"\",\n        \"description\": \"\"\n      }\n    },\n    {\n      \"column\": \"gluten\",\n      \"properties\": {\n        \"dtype\": \"string\",\n        \"num_unique_values\": 1,\n        \"samples\": [\n          \"No\"\n        ],\n        \"semantic_type\": \"\",\n        \"description\": \"\"\n      }\n    },\n    {\n      \"column\": \"softener\",\n      \"properties\": {\n        \"dtype\": \"string\",\n        \"num_unique_values\": 1,\n        \"samples\": [\n          \"False\"\n        ],\n        \"semantic_type\": \"\",\n        \"description\": \"\"\n      }\n    },\n    {\n      \"column\": \"Increased Fiber Recommendation\",\n      \"properties\": {\n        \"dtype\": \"number\",\n        \"std\": null,\n        \"min\": null,\n        \"max\": null,\n        \"num_unique_values\": 0,\n        \"samples\": [],\n        \"semantic_type\": \"\",\n        \"description\": \"\"\n      }\n    },\n    {\n      \"column\": \"Low FODMAP Recommendation\",\n      \"properties\": {\n        \"dtype\": \"string\",\n        \"num_unique_values\": 1,\n        \"samples\": [],\n        \"semantic_type\": \"\",\n        \"description\": \"\"\n      }\n    },\n    {\n      \"column\": \"Reduce Dairy Recommendation\",\n      \"properties\": {\n        \"dtype\": \"number\",\n        \"std\": null,\n        \"min\": null,\n        \"max\": null,\n        \"num_unique_values\": 0,\n        \"samples\": [],\n        \"semantic_type\": \"\",\n        \"description\": \"\"\n      }\n    },\n    {\n      \"column\": \"Reduce Red Meat Recommendation\",\n      \"properties\": {\n        \"dtype\": \"number\",\n        \"std\": null,\n        \"min\": null,\n        \"max\": null,\n        \"num_unique_values\": 0,\n        \"samples\": [],\n        \"semantic_type\": \"\",\n        \"description\": \"\"\n      }\n    },\n    {\n      \"column\": \"Reduce Alcohol Recommendation\",\n      \"properties\": {\n        \"dtype\": \"number\",\n        \"std\": null,\n        \"min\": null,\n        \"max\": null,\n        \"num_unique_values\": 0,\n        \"samples\": [],\n        \"semantic_type\": \"\",\n        \"description\": \"\"\n      }\n    }\n  ]\n}"
            }
          },
          "metadata": {}
        }
      ]
    },
    {
      "cell_type": "markdown",
      "source": [
        "### UI Integration"
      ],
      "metadata": {
        "id": "4sOhyi9Sdg71"
      }
    },
    {
      "cell_type": "code",
      "source": [
        "# Part 4 - End of Week 10\n",
        "# Integration with Prototype UI"
      ],
      "metadata": {
        "id": "xC83nB0xjoq7"
      },
      "execution_count": null,
      "outputs": []
    },
    {
      "cell_type": "markdown",
      "source": [
        "Add files to UI script root directory:\n",
        "\n",
        "**Links to established model, encoder, and scaler files:**\n",
        "\n",
        "Model - https://drive.google.com/file/d/19qQDY_G_RYnPjdnQo_q0l68M9cqYW89P/view?usp=drive_link\n",
        "\n",
        "Label Encoder - https://drive.google.com/file/d/1SBtZOELdiAB1dRSUxzsTiSyePCc6mtU4/view?usp=drive_link\n",
        "\n",
        "Scaler - https://drive.google.com/file/d/1UNHXUlL9Y02_nqJC9qLraV2t2rXJSpvb/view?usp=drive_link\n",
        "\n",
        "**Links to unique_species, X_train and y_features_list files:**\n",
        "\n",
        "Unique_species - https://drive.google.com/file/d/19FChxpwzmdg8gXN42Fatv4WOeiKS_iPW/view?usp=sharing\n",
        "\n",
        "X_train - https://drive.google.com/file/d/1-DAm2_a6EskjhMtahtYekNscOoEpaj59/view?usp=drive_link\n",
        "\n",
        "X_features - https://drive.google.com/file/d/15_JXCeS383IN72NAvKR0Sdg2XBwj9bL-/view?usp=drive_link\n",
        "\n",
        "y_features_list - https://drive.google.com/file/d/1mkCMc692MQRE4lWTrmkZ7CaKl78It5FK/view?usp=drive_link\n",
        "\n",
        "\n",
        "**Link to completed dataset table:**\n",
        "https://drive.google.com/file/d/1mSHCBg5mfYDehSVFgMS_HFH1ohzd6UAY/view?usp=drive_link\n",
        "\n",
        "**Template microbiome file**\n",
        "https://drive.google.com/file/d/1waN6HlKx9ARHKDnoyliszg_2HPR9Nqof/view?usp=drive_link"
      ],
      "metadata": {
        "id": "YeGJ7Tz4mmXs"
      }
    },
    {
      "cell_type": "code",
      "source": [
        "# Start by importing the following libraries into the python script:\n",
        "import pandas as pd # To import datasets as dataframes\n",
        "pd.options.mode.chained_assignment = None  # default='warn'\n",
        "import numpy as np\n",
        "from sklearn.ensemble import RandomForestClassifier\n",
        "from sklearn.preprocessing import LabelEncoder, StandardScaler\n",
        "import joblib\n",
        "import os"
      ],
      "metadata": {
        "id": "t6X4_GhvnGzc"
      },
      "execution_count": null,
      "outputs": []
    },
    {
      "cell_type": "code",
      "source": [
        "# Use the following variable names for loading each of the files:\n",
        "random_forest = joblib.load('random_forest_model.joblib')\n",
        "unique_species = joblib.load('unique_species.joblib')\n",
        "encoder = joblib.load('label_encoder.joblib')\n",
        "scaler = joblib.load('standard_scaler.joblib')\n",
        "X_features = joblib.load('x_features.joblib')\n",
        "y_features = joblib.load('y_features_list.joblib')\n",
        "complete_dataset_df_clean = pd.read_csv('complete_dataset_df_clean.csv')"
      ],
      "metadata": {
        "id": "vFvNHZt1mkgW"
      },
      "execution_count": null,
      "outputs": []
    },
    {
      "cell_type": "code",
      "source": [
        "# User data import format uses a python dictionary structure:\n",
        "example_inputs_dict = {\n",
        "    'ibs': 'True',\n",
        "    'ibd': 'False',\n",
        "    'diet_type': 'Omnivore',\n",
        "    'Do you consume dairy products?': 'Yes',\n",
        "    'Do you consume red meat?': 'No',\n",
        "    'Do you consume alcohol?': 'Yes',\n",
        "    'bowel_movement_frequency_numerical': 2,\n",
        "    'bowel_movement_quality': 'I tend to be constipated (have difficulty passing stool) - type 1 and 2',\n",
        "    'country_of_birth': 'Canada'\n",
        "}"
      ],
      "metadata": {
        "id": "ZPOQRo9unThb"
      },
      "execution_count": null,
      "outputs": []
    },
    {
      "cell_type": "code",
      "source": [
        "# Microbiome data csv file will be converted to a dataframe and saved as a variable\n",
        "microbiome_data = pd.read_csv('template_microbiome_data.csv')"
      ],
      "metadata": {
        "id": "1Jq8Cg66_db5"
      },
      "execution_count": null,
      "outputs": []
    },
    {
      "cell_type": "code",
      "source": [
        "# The self contained prediction function\n",
        "\n",
        "def predict_dietary_recommendations(input_data, microbiome_data, model, encoder, scaler, X_features, y_features, unique_species, original_data_for_encoding):\n",
        "    \"\"\"\n",
        "    Preprocesses input data, makes a prediction using the trained random forest model,\n",
        "    and returns the unencoded predictions with dietary recommendations.\n",
        "\n",
        "    Args:\n",
        "        input_data (dict): A dictionary containing the new data for prediction,\n",
        "                           with keys corresponding to the original feature names (so they aren't lost during encoding and scaling).\n",
        "        model: The trained machine learning model (RandomForestClassifier, loaded from our file).\n",
        "        encoder: The fitted LabelEncoder used for categorical features (the same one used to train the model).\n",
        "        scaler: The fitted StandardScaler used for numerical features (also the same one used to train the model).\n",
        "        X_features (list): A list of the original feature names used for training X.\n",
        "        y_features (list): A list of the original target feature names used for training y.\n",
        "        unique_species (list): A list of unique species names for taxonomic features.\n",
        "        original_data_for_encoding (pd.DataFrame): The original DataFrame used to fit the encoder,\n",
        "                                                  needed for inverse transforming predictions.\n",
        "\n",
        "    Returns:\n",
        "        A Pandas DataFrame containing the unencoded dietary recommendations\n",
        "                      and additional columns for recommended adjustments.\n",
        "    \"\"\"\n",
        "    # Create a DataFrame from the input data (from the Streamlit app prototype)\n",
        "    X_new = pd.DataFrame([input_data])\n",
        "    original_data = pd.DataFrame([input_data]) # To save all inputs\n",
        "\n",
        "    # Add metagenome taxonomic columns to X_new and fill with 0 if not present\n",
        "    for species in unique_species:\n",
        "        if species not in X_new.columns:\n",
        "            X_new[species] = 0\n",
        "\n",
        "    # Convert numerical inputs from a bowel_movement_frequency_numerical column into the text-based bowel_movement_frequency_column\n",
        "    for index, row in X_new.iterrows():\n",
        "        if 'bowel_movement_frequency_numerical' in row and not pd.isna(row['bowel_movement_frequency_numerical']):\n",
        "            freq = int(row['bowel_movement_frequency_numerical'])\n",
        "            if freq == 1:\n",
        "                X_new.loc[index, 'bowel_movement_frequency'] = 'One'\n",
        "            elif freq == 2:\n",
        "                X_new.loc[index, 'bowel_movement_frequency'] = 'Two'\n",
        "            elif freq == 3:\n",
        "                X_new.loc[index, 'bowel_movement_frequency'] = 'Three'\n",
        "            elif freq == 4:\n",
        "                X_new.loc[index, 'bowel_movement_frequency'] = 'Four'\n",
        "            elif freq >= 5:\n",
        "                X_new.loc[index, 'bowel_movement_frequency'] = 'Five or more'\n",
        "\n",
        "    # Determine taxonomy diet category\n",
        "    X_new.loc[X_new['diet_type'] == 'Vegetarian', 'taxonomy_diet_category'] = 'Plants'\n",
        "    X_new.loc[X_new['diet_type'] == 'Vegan', 'taxonomy_diet_category'] = 'Plants'\n",
        "\n",
        "    X_new.loc[X_new['diet_type'] == 'Omnivore', 'taxonomy_diet_category'] = 'Hunter Gatherer'\n",
        "    X_new.loc[X_new['diet_type'] == 'Vegetarian but eat seafood', 'taxonomy_diet_category'] = 'Hunter Gatherer'\n",
        "\n",
        "    X_new.loc[X_new['diet_type'] == 'Omnivore but do not eat red meat', 'taxonomy_diet_category'] = 'Remote Farmer'\n",
        "\n",
        "    X_new.loc[X_new['taxonomy_diet_category'].isna(), 'taxonomy_diet_category'] = 'Country'\n",
        "\n",
        "    # Ensure X_new has the same columns as X_features (including taxonomic) and in the correct order\n",
        "    all_X_cols = X_features + unique_species\n",
        "    X_new = X_new.reindex(columns=all_X_cols, fill_value=0)\n",
        "\n",
        "    # Drop columns not in scope of the set X_features\n",
        "    X_new = X_new[X_features]\n",
        "\n",
        "    # Manually encode categorical features using the existing encoder\n",
        "    X_new_encoded = pd.DataFrame(index=X_new.index) # Create an empty DataFrame to store encoded features\n",
        "\n",
        "    for column in X_features:\n",
        "        if column in X_new.columns:\n",
        "            encoded_column_name = str(column) + '_encoded'\n",
        "            # Check if the encoder has seen this category\n",
        "            # Use .iloc[:, 0] to get the Series for a single-row DataFrame\n",
        "            if column in encoder.classes_:\n",
        "                 X_new_encoded[encoded_column_name] = encoder.transform(X_new[column].iloc[:, 0])\n",
        "            else:\n",
        "                # Handle unseen categories - assign a placeholder like -1 or NaN\n",
        "                X_new_encoded[encoded_column_name] = -1 # Assign a placeholder for unseen categories\n",
        "\n",
        "    X_new = pd.concat([X_new, microbiome_data], axis=1)\n",
        "\n",
        "    # Reorder columns in X_new_encoded to match the order of X_train (assuming X_train is available in the global scope)\n",
        "    # A more robust solution would be to save and load the column order\n",
        "    # For now, we'll rely on X_train being in the global scope\n",
        "    try:\n",
        "        X_new_encoded = X_new_encoded[X_train.columns]\n",
        "    except NameError:\n",
        "        print(\"Warning: X_train not found in global scope. Column order might be incorrect.\")\n",
        "        # In a real application, you would save and load the training column order\n",
        "\n",
        "\n",
        "    # Refit the scaler on the encoded training data (X_train)\n",
        "    scaler = StandardScaler()\n",
        "    X_train_scaled = scaler.fit_transform(X_train)\n",
        "\n",
        "\n",
        "    # Scale the processed new data using the refitted scaler\n",
        "    X_new_scaled = scaler.transform(X_new_encoded)\n",
        "\n",
        "    # Make prediction\n",
        "    y_pred_new = model.predict(X_new_scaled)\n",
        "\n",
        "    # Inverse transform the predictions to get the original labels\n",
        "    y_pred_unencoded = {}\n",
        "    # Get the original unencoded training data for inverse transformation\n",
        "    X_train_indices = X_train.index\n",
        "    y_train_original = original_data_for_encoding.loc[X_train_indices, y_features] # Use original_data_for_encoding here\n",
        "\n",
        "    for i, column in enumerate(y_features):\n",
        "        # Get the original unencoded data for this column from the training set\n",
        "        original_column_data = y_train_original[column].dropna()\n",
        "\n",
        "        # Create and fit a temporary LabelEncoder on the unique values of the original training data for this column\n",
        "        temp_encoder = LabelEncoder()\n",
        "        temp_encoder.fit(original_column_data.unique()) # Fit on unique non-null values from original training data\n",
        "\n",
        "        # Inverse transform the predictions for this column\n",
        "        y_pred_unencoded[column] = temp_encoder.inverse_transform(y_pred_new[:, i])\n",
        "\n",
        "    # Convert the unencoded predictions back to a DataFrame for better readability\n",
        "    y_pred_unencoded_df = pd.DataFrame(y_pred_unencoded)\n",
        "\n",
        "    # Add dietary recommendations based on X_new and y_pred_unencoded_df\n",
        "    recommendations = {}\n",
        "\n",
        "    # Increased Fiber Recommendation\n",
        "    bowel_movement_quality = X_new['bowel_movement_quality'].iloc[0] if 'bowel_movement_quality' in X_new.columns else None\n",
        "    vegetable_frequency = y_pred_unencoded_df['vegetable_frequency'].iloc[0] if 'vegetable_frequency' in y_pred_unencoded_df.columns else None\n",
        "    bowel_movement_frequency = X_new['bowel_movement_frequency'].iloc[0] if 'bowel_movement_frequency' in X_new.columns else None\n",
        "\n",
        "    if (bowel_movement_quality is not None and 'constipated' in str(bowel_movement_quality).lower()) or \\\n",
        "       (vegetable_frequency is not None and vegetable_frequency not in ['Daily', 'Regularly (3-5 times/week)', 'Never', 'Not provided', 'Not collected']) or \\\n",
        "       (bowel_movement_frequency is not None and bowel_movement_frequency in ['Four', 'Five or more']):\n",
        "        recommendations['Increased Fiber Recommendation'] = 'Consider increasing fiber intake, including addition of soluble fiber-rich vegetables.'\n",
        "    else:\n",
        "        recommendations['Increased Fiber Recommendation'] = np.nan\n",
        "\n",
        "    # Low FODMAP Recommendation\n",
        "    ibs_status = X_new['ibs'].iloc[0] if 'ibs' in X_new.columns else None\n",
        "    ibd_status = X_new['ibd'].iloc[0] if 'ibd' in X_new.columns else None\n",
        "\n",
        "    if (ibs_status is not None and ibs_status not in [np.nan, 'I do not have this condition', 'Unspecified', 'Not provided', 'Not collected']) or \\\n",
        "       (ibd_status is not None and ibd_status not in [np.nan, 'I do not have this condition', 'Unspecified', 'Not provided', 'Not collected']):\n",
        "        recommendations['Low FODMAP Recommendation'] = 'Consider a Low FODMAP diet with decreased carbohydrates.'\n",
        "    else:\n",
        "        recommendations['Low FODMAP Recommendation'] = np.nan\n",
        "\n",
        "    # Reduce Dairy Intake Recommendation\n",
        "    milk_cheese_frequency = y_pred_unencoded_df['milk_cheese_frequency'].iloc[0] if 'milk_cheese_frequency' in y_pred_unencoded_df.columns else None\n",
        "\n",
        "    # No need to recommend the reduction of food categories the individual already indicated they don't include in their diet\n",
        "    if 'dairy_indicated' in original_data.columns and original_data['dairy_indicated'].iloc[0] == 'No':\n",
        "        recommendations['Reduce Dairy Recommendation'] = np.nan\n",
        "    elif (milk_cheese_frequency is not None and milk_cheese_frequency not in ['Rarely (less than once/week)', 'Never', 'Not provided', 'Not collected']) and \\\n",
        "       ((ibs_status is not None and ibs_status not in [np.nan, 'I do not have this condition', 'Unspecified', 'Not provided', 'Not collected']) or \\\n",
        "        (ibd_status is not None and ibd_status not in [np.nan, 'I do not have this condition', 'Unspecified', 'Not provided', 'Not collected'])):\n",
        "        recommendations['Reduce Dairy Recommendation'] = 'Consider reducing dairy intake or using dairy substitutes (such as soy or almond milk).'\n",
        "    else:\n",
        "        recommendations['Reduce Dairy Recommendation'] = np.nan\n",
        "\n",
        "    # Reduce Red Meat Intake Recommendation\n",
        "    red_meat_frequency = y_pred_unencoded_df['red_meat_frequency'].iloc[0] if 'red_meat_frequency' in y_pred_unencoded_df.columns else None\n",
        "\n",
        "    if 'red_meat_indicated' in original_data.columns and original_data['red_meat_indicated'].iloc[0] == 'No':\n",
        "        recommendations['Reduce Red Meat Recommendation'] = np.nan\n",
        "    elif (red_meat_frequency is not None and red_meat_frequency not in ['Rarely (less than once/week)', 'Occasionally (1-2 times/week)', 'Never', 'Not provided', 'Not collected']) and \\\n",
        "       ((ibs_status is not None and ibs_status not in [np.nan, 'I do not have this condition', 'Unspecified', 'Not provided', 'Not collected']) or \\\n",
        "        (ibd_status is not None and ibd_status not in [np.nan, 'I do not have this condition', 'Unspecified', 'Not provided', 'Not collected'])):\n",
        "        recommendations['Reduce Red Meat Recommendation'] = 'Consider reducing red meat intake.'\n",
        "    else:\n",
        "        recommendations['Reduce Red Meat Recommendation'] = np.nan\n",
        "\n",
        "    # Reduce Alcohol Intake Recommendation\n",
        "    alcohol_frequency = y_pred_unencoded_df['alcohol_frequency'].iloc[0] if 'alcohol_frequency' in y_pred_unencoded_df.columns else None\n",
        "    if 'alcohol_indicated' in original_data.columns and original_data['alcohol_indicated'].iloc[0] == 'No':\n",
        "        recommendations['Reduce Alcohol Recommendation'] = np.nan\n",
        "    elif (alcohol_frequency is not None and alcohol_frequency not in ['Rarely (a few times/month)', 'Never', 'Not provided', 'Not collected']) or \\\n",
        "       (alcohol_frequency is not None and alcohol_frequency in ['Regularly (3-5 times/week)', 'Daily']):\n",
        "        recommendations['Reduce Alcohol Recommendation'] = 'Consider reducing alcohol intake.'\n",
        "    else:\n",
        "        recommendations['Reduce Alcohol Recommendation'] = np.nan\n",
        "\n",
        "\n",
        "    # Add recommendations to the output DataFrame\n",
        "    for rec, text in recommendations.items():\n",
        "        y_pred_unencoded_df[rec] = text\n",
        "\n",
        "    return y_pred_unencoded_df\n"
      ],
      "metadata": {
        "id": "bC513Muwpbia"
      },
      "execution_count": null,
      "outputs": []
    },
    {
      "cell_type": "code",
      "source": [
        "# First, allow the user to input their information via the UI, starting with IBS or IBD diagnosis\n",
        "# Using these levels:\n",
        "# Standardizing values like 'Unknown' to NaN and maintaining this capitalization\n",
        "complete_dataset_df_clean['ibs'].unique()"
      ],
      "metadata": {
        "colab": {
          "base_uri": "https://localhost:8080/"
        },
        "id": "E9bzFbBhV6fy",
        "outputId": "543c1b48-3f3e-4796-a009-7b38cafe7e54"
      },
      "execution_count": null,
      "outputs": [
        {
          "output_type": "execute_result",
          "data": {
            "text/plain": [
              "array(['I do not have this condition',\n",
              "       'Diagnosed by a medical professional (doctor, physician assistant)',\n",
              "       nan, 'Self-diagnosed',\n",
              "       'Diagnosed by an alternative medicine practitioner',\n",
              "       'Not provided', 'Not collected'], dtype=object)"
            ]
          },
          "metadata": {},
          "execution_count": 24
        }
      ]
    },
    {
      "cell_type": "code",
      "source": [
        "# Options for general diet type are:\n",
        "complete_dataset_df_clean['diet_type'].unique()\n",
        "# Omnivore, Omnivore but do not eat red meat, Vegetarian, Vegetarian but eat seafood, and Vegan"
      ],
      "metadata": {
        "colab": {
          "base_uri": "https://localhost:8080/"
        },
        "id": "Y2Yi_aAVWca9",
        "outputId": "fcf0018e-072a-4d5d-fd2f-8dfb26d33058"
      },
      "execution_count": null,
      "outputs": [
        {
          "output_type": "execute_result",
          "data": {
            "text/plain": [
              "array(['Omnivore', 'Omnivore but do not eat red meat', nan, 'Vegetarian',\n",
              "       'Vegetarian but eat seafood', 'Vegan', 'Not provided',\n",
              "       'Not collected'], dtype=object)"
            ]
          },
          "metadata": {},
          "execution_count": 25
        }
      ]
    },
    {
      "cell_type": "code",
      "source": [
        "# Allow for boolean input of potential dietary irritants if present in diet\n",
        "# Eg: Do you consume dairy products? Alcohol?\n",
        "# Accept input for bowel movement frequency (as an integer, should be converted in the ML function)"
      ],
      "metadata": {
        "id": "OzJ9fi-fY6Je"
      },
      "execution_count": null,
      "outputs": []
    },
    {
      "cell_type": "code",
      "source": [
        "# Allow input for bowel movement quality symptom with these options:\n",
        "complete_dataset_df_clean['bowel_movement_quality'].unique()"
      ],
      "metadata": {
        "colab": {
          "base_uri": "https://localhost:8080/"
        },
        "id": "0ZnvE7tuYi2v",
        "outputId": "404e6f5a-b43b-41d2-c1d4-18283d95342e"
      },
      "execution_count": null,
      "outputs": [
        {
          "output_type": "execute_result",
          "data": {
            "text/plain": [
              "array(['I tend to have normal formed stool - type 3 and 4',\n",
              "       'I tend to have diarrhea (watery stool) - type 5, 6 and 7', nan,\n",
              "       'I tend to be constipated (have difficulty passing stool) - type 1 and 2',\n",
              "       \"I don't know, i do not have a point of reference\", 'Not provided',\n",
              "       'I tend to have normal formed stool',\n",
              "       'I tend to have diarrhea (watery stool)',\n",
              "       'I tend to be constipated (have difficulty passing stool)',\n",
              "       'Not collected'], dtype=object)"
            ]
          },
          "metadata": {},
          "execution_count": 28
        }
      ]
    },
    {
      "cell_type": "code",
      "source": [
        "# Accept input for country of birth:\n",
        "complete_dataset_df_clean['country_of_birth'].unique() # Note capitalization should be the same as these levels"
      ],
      "metadata": {
        "colab": {
          "base_uri": "https://localhost:8080/"
        },
        "id": "FFzGuFJaZdrX",
        "outputId": "4337083b-fea1-42de-a039-2fa9520282ee"
      },
      "execution_count": null,
      "outputs": [
        {
          "output_type": "execute_result",
          "data": {
            "text/plain": [
              "array(['United states', 'Turkey', 'Australia', nan, 'Singapore', 'Spain',\n",
              "       'Mexico', 'Czech republic', 'Trinidad and tobago', 'Canada',\n",
              "       'India', 'Belgium', 'Korea, republic of', 'Bangladesh',\n",
              "       'Philippines', 'Dominican republic', 'Moldova, republic of',\n",
              "       'China', 'Poland', 'Germany', 'Denmark', 'United kingdom',\n",
              "       'Ireland', 'Russian federation', 'Kenya', 'France', 'South africa',\n",
              "       'Venezuela', 'Guam', 'Argentina', 'Japan', 'Uruguay',\n",
              "       'Not provided', 'Greece', 'Switzerland', 'New zealand', 'Malawi',\n",
              "       'Finland', 'Puerto rico', 'Brazil', 'Kuwait', 'Hong kong',\n",
              "       'Pakistan', 'Italy', 'Jersey', 'Iran, islamic republic of',\n",
              "       'Romania', 'Zambia', 'Panama', 'Estonia', 'Chile', 'Croatia',\n",
              "       'Tanzania, united republic of', 'Syrian arab republic', 'Hungary',\n",
              "       'Uzbekistan', 'Gibraltar', 'Kazakhstan', 'Colombia', 'Norway',\n",
              "       'Ukraine', 'Albania', 'Serbia', 'Austria', 'Malaysia', 'Latvia',\n",
              "       'Nepal', 'Guatemala', 'Belarus', 'Ghana', 'Jamaica', 'Israel',\n",
              "       'Bolivia', 'Bulgaria', 'Portugal', 'Netherlands', 'Sweden',\n",
              "       'Viet nam', 'Mauritius', 'Tajikistan', 'Netherlands antilles',\n",
              "       'Thailand', 'Bahrain', 'Iceland', 'Uganda', 'Cyprus', 'Egypt',\n",
              "       'Cambodia', 'Luxembourg', 'Indonesia', 'Taiwan, province of china',\n",
              "       'Sri lanka', 'Slovenia', 'Peru', 'Not collected',\n",
              "       'Bosnia and herzegovina', 'United arab emirates',\n",
              "       'United states minor outlying islands', 'Saudi arabia', 'Mongolia',\n",
              "       'Malta', 'Zimbabwe', 'Libyan arab jamahiriya', 'Lithuania',\n",
              "       'Morocco', 'El salvador', 'Guernsey', 'Azerbaijan', 'Fiji',\n",
              "       'Tunisia', 'Virgin islands, u.s.', 'Nigeria', 'Costa rica', 'Cuba',\n",
              "       'Slovakia', 'Ethiopia', 'Afghanistan', \"Cote d'ivoire\", 'Algeria',\n",
              "       'Paraguay', 'Lebanon', 'Dominica', 'Bermuda', 'Angola', 'Somalia',\n",
              "       'Sudan', 'Guyana', 'Isle of man',\n",
              "       'Palestinian territory, occupied', 'Iraq', 'Botswana',\n",
              "       'Seychelles', 'Macedonia, the former yugoslav republic of',\n",
              "       'Georgia'], dtype=object)"
            ]
          },
          "metadata": {},
          "execution_count": 29
        }
      ]
    },
    {
      "cell_type": "code",
      "source": [
        "# can pass that dataframe into the ML operation function\n",
        "predicted_diet_from_example_inputs = predict_dietary_recommendations(\n",
        "    example_inputs_dict,\n",
        "    microbiome_data,\n",
        "    random_forest,\n",
        "    encoder,\n",
        "    scaler,\n",
        "    X_features,\n",
        "    y_features,\n",
        "    unique_species,\n",
        "    complete_dataset_df_clean # Pass the original data for inverse encoding\n",
        ")\n",
        "\n",
        "# Display the predicted dietary recommendations\n",
        "print(\"Predicted Dietary Recommendations for X_new:\")\n",
        "display(predicted_diet_from_example_inputs)"
      ],
      "metadata": {
        "colab": {
          "base_uri": "https://localhost:8080/",
          "height": 239
        },
        "id": "Whwt7upfd8xL",
        "outputId": "38f9e1dc-c404-4e36-a29c-9074481de7cd"
      },
      "execution_count": null,
      "outputs": [
        {
          "output_type": "stream",
          "name": "stderr",
          "text": [
            "/usr/local/lib/python3.12/dist-packages/sklearn/utils/validation.py:2739: UserWarning: X does not have valid feature names, but RandomForestClassifier was fitted with feature names\n",
            "  warnings.warn(\n"
          ]
        },
        {
          "output_type": "stream",
          "name": "stdout",
          "text": [
            "Predicted Dietary Recommendations for X_new:\n"
          ]
        },
        {
          "output_type": "display_data",
          "data": {
            "text/plain": [
              "  vegetable_frequency             red_meat_frequency  \\\n",
              "0               Daily  Occasionally (1-2 times/week)   \n",
              "\n",
              "           whole_grain_frequency alcohol_frequency  \\\n",
              "0  Occasionally (1-2 times/week)             Never   \n",
              "\n",
              "          milk_cheese_frequency gluten softener  \\\n",
              "0  Rarely (less than once/week)     No    False   \n",
              "\n",
              "                      Increased Fiber Recommendation  \\\n",
              "0  Consider increasing fiber intake, including ad...   \n",
              "\n",
              "                           Low FODMAP Recommendation  \\\n",
              "0  Consider a Low FODMAP diet with decreased carb...   \n",
              "\n",
              "   Reduce Dairy Recommendation  Reduce Red Meat Recommendation  \\\n",
              "0                          NaN                             NaN   \n",
              "\n",
              "   Reduce Alcohol Recommendation  \n",
              "0                            NaN  "
            ],
            "text/html": [
              "\n",
              "  <div id=\"df-63eb2ae8-262b-44a9-bed2-fde1090c8cba\" class=\"colab-df-container\">\n",
              "    <div>\n",
              "<style scoped>\n",
              "    .dataframe tbody tr th:only-of-type {\n",
              "        vertical-align: middle;\n",
              "    }\n",
              "\n",
              "    .dataframe tbody tr th {\n",
              "        vertical-align: top;\n",
              "    }\n",
              "\n",
              "    .dataframe thead th {\n",
              "        text-align: right;\n",
              "    }\n",
              "</style>\n",
              "<table border=\"1\" class=\"dataframe\">\n",
              "  <thead>\n",
              "    <tr style=\"text-align: right;\">\n",
              "      <th></th>\n",
              "      <th>vegetable_frequency</th>\n",
              "      <th>red_meat_frequency</th>\n",
              "      <th>whole_grain_frequency</th>\n",
              "      <th>alcohol_frequency</th>\n",
              "      <th>milk_cheese_frequency</th>\n",
              "      <th>gluten</th>\n",
              "      <th>softener</th>\n",
              "      <th>Increased Fiber Recommendation</th>\n",
              "      <th>Low FODMAP Recommendation</th>\n",
              "      <th>Reduce Dairy Recommendation</th>\n",
              "      <th>Reduce Red Meat Recommendation</th>\n",
              "      <th>Reduce Alcohol Recommendation</th>\n",
              "    </tr>\n",
              "  </thead>\n",
              "  <tbody>\n",
              "    <tr>\n",
              "      <th>0</th>\n",
              "      <td>Daily</td>\n",
              "      <td>Occasionally (1-2 times/week)</td>\n",
              "      <td>Occasionally (1-2 times/week)</td>\n",
              "      <td>Never</td>\n",
              "      <td>Rarely (less than once/week)</td>\n",
              "      <td>No</td>\n",
              "      <td>False</td>\n",
              "      <td>Consider increasing fiber intake, including ad...</td>\n",
              "      <td>Consider a Low FODMAP diet with decreased carb...</td>\n",
              "      <td>NaN</td>\n",
              "      <td>NaN</td>\n",
              "      <td>NaN</td>\n",
              "    </tr>\n",
              "  </tbody>\n",
              "</table>\n",
              "</div>\n",
              "    <div class=\"colab-df-buttons\">\n",
              "\n",
              "  <div class=\"colab-df-container\">\n",
              "    <button class=\"colab-df-convert\" onclick=\"convertToInteractive('df-63eb2ae8-262b-44a9-bed2-fde1090c8cba')\"\n",
              "            title=\"Convert this dataframe to an interactive table.\"\n",
              "            style=\"display:none;\">\n",
              "\n",
              "  <svg xmlns=\"http://www.w3.org/2000/svg\" height=\"24px\" viewBox=\"0 -960 960 960\">\n",
              "    <path d=\"M120-120v-720h720v720H120Zm60-500h600v-160H180v160Zm220 220h160v-160H400v160Zm0 220h160v-160H400v160ZM180-400h160v-160H180v160Zm440 0h160v-160H620v160ZM180-180h160v-160H180v160Zm440 0h160v-160H620v160Z\"/>\n",
              "  </svg>\n",
              "    </button>\n",
              "\n",
              "  <style>\n",
              "    .colab-df-container {\n",
              "      display:flex;\n",
              "      gap: 12px;\n",
              "    }\n",
              "\n",
              "    .colab-df-convert {\n",
              "      background-color: #E8F0FE;\n",
              "      border: none;\n",
              "      border-radius: 50%;\n",
              "      cursor: pointer;\n",
              "      display: none;\n",
              "      fill: #1967D2;\n",
              "      height: 32px;\n",
              "      padding: 0 0 0 0;\n",
              "      width: 32px;\n",
              "    }\n",
              "\n",
              "    .colab-df-convert:hover {\n",
              "      background-color: #E2EBFA;\n",
              "      box-shadow: 0px 1px 2px rgba(60, 64, 67, 0.3), 0px 1px 3px 1px rgba(60, 64, 67, 0.15);\n",
              "      fill: #174EA6;\n",
              "    }\n",
              "\n",
              "    .colab-df-buttons div {\n",
              "      margin-bottom: 4px;\n",
              "    }\n",
              "\n",
              "    [theme=dark] .colab-df-convert {\n",
              "      background-color: #3B4455;\n",
              "      fill: #D2E3FC;\n",
              "    }\n",
              "\n",
              "    [theme=dark] .colab-df-convert:hover {\n",
              "      background-color: #434B5C;\n",
              "      box-shadow: 0px 1px 3px 1px rgba(0, 0, 0, 0.15);\n",
              "      filter: drop-shadow(0px 1px 2px rgba(0, 0, 0, 0.3));\n",
              "      fill: #FFFFFF;\n",
              "    }\n",
              "  </style>\n",
              "\n",
              "    <script>\n",
              "      const buttonEl =\n",
              "        document.querySelector('#df-63eb2ae8-262b-44a9-bed2-fde1090c8cba button.colab-df-convert');\n",
              "      buttonEl.style.display =\n",
              "        google.colab.kernel.accessAllowed ? 'block' : 'none';\n",
              "\n",
              "      async function convertToInteractive(key) {\n",
              "        const element = document.querySelector('#df-63eb2ae8-262b-44a9-bed2-fde1090c8cba');\n",
              "        const dataTable =\n",
              "          await google.colab.kernel.invokeFunction('convertToInteractive',\n",
              "                                                    [key], {});\n",
              "        if (!dataTable) return;\n",
              "\n",
              "        const docLinkHtml = 'Like what you see? Visit the ' +\n",
              "          '<a target=\"_blank\" href=https://colab.research.google.com/notebooks/data_table.ipynb>data table notebook</a>'\n",
              "          + ' to learn more about interactive tables.';\n",
              "        element.innerHTML = '';\n",
              "        dataTable['output_type'] = 'display_data';\n",
              "        await google.colab.output.renderOutput(dataTable, element);\n",
              "        const docLink = document.createElement('div');\n",
              "        docLink.innerHTML = docLinkHtml;\n",
              "        element.appendChild(docLink);\n",
              "      }\n",
              "    </script>\n",
              "  </div>\n",
              "\n",
              "\n",
              "  <div id=\"id_7efd8188-ab18-44fd-b38b-44e994a65e01\">\n",
              "    <style>\n",
              "      .colab-df-generate {\n",
              "        background-color: #E8F0FE;\n",
              "        border: none;\n",
              "        border-radius: 50%;\n",
              "        cursor: pointer;\n",
              "        display: none;\n",
              "        fill: #1967D2;\n",
              "        height: 32px;\n",
              "        padding: 0 0 0 0;\n",
              "        width: 32px;\n",
              "      }\n",
              "\n",
              "      .colab-df-generate:hover {\n",
              "        background-color: #E2EBFA;\n",
              "        box-shadow: 0px 1px 2px rgba(60, 64, 67, 0.3), 0px 1px 3px 1px rgba(60, 64, 67, 0.15);\n",
              "        fill: #174EA6;\n",
              "      }\n",
              "\n",
              "      [theme=dark] .colab-df-generate {\n",
              "        background-color: #3B4455;\n",
              "        fill: #D2E3FC;\n",
              "      }\n",
              "\n",
              "      [theme=dark] .colab-df-generate:hover {\n",
              "        background-color: #434B5C;\n",
              "        box-shadow: 0px 1px 3px 1px rgba(0, 0, 0, 0.15);\n",
              "        filter: drop-shadow(0px 1px 2px rgba(0, 0, 0, 0.3));\n",
              "        fill: #FFFFFF;\n",
              "      }\n",
              "    </style>\n",
              "    <button class=\"colab-df-generate\" onclick=\"generateWithVariable('predicted_diet_from_example_inputs')\"\n",
              "            title=\"Generate code using this dataframe.\"\n",
              "            style=\"display:none;\">\n",
              "\n",
              "  <svg xmlns=\"http://www.w3.org/2000/svg\" height=\"24px\"viewBox=\"0 0 24 24\"\n",
              "       width=\"24px\">\n",
              "    <path d=\"M7,19H8.4L18.45,9,17,7.55,7,17.6ZM5,21V16.75L18.45,3.32a2,2,0,0,1,2.83,0l1.4,1.43a1.91,1.91,0,0,1,.58,1.4,1.91,1.91,0,0,1-.58,1.4L9.25,21ZM18.45,9,17,7.55Zm-12,3A5.31,5.31,0,0,0,4.9,8.1,5.31,5.31,0,0,0,1,6.5,5.31,5.31,0,0,0,4.9,4.9,5.31,5.31,0,0,0,6.5,1,5.31,5.31,0,0,0,8.1,4.9,5.31,5.31,0,0,0,12,6.5,5.46,5.46,0,0,0,6.5,12Z\"/>\n",
              "  </svg>\n",
              "    </button>\n",
              "    <script>\n",
              "      (() => {\n",
              "      const buttonEl =\n",
              "        document.querySelector('#id_7efd8188-ab18-44fd-b38b-44e994a65e01 button.colab-df-generate');\n",
              "      buttonEl.style.display =\n",
              "        google.colab.kernel.accessAllowed ? 'block' : 'none';\n",
              "\n",
              "      buttonEl.onclick = () => {\n",
              "        google.colab.notebook.generateWithVariable('predicted_diet_from_example_inputs');\n",
              "      }\n",
              "      })();\n",
              "    </script>\n",
              "  </div>\n",
              "\n",
              "    </div>\n",
              "  </div>\n"
            ],
            "application/vnd.google.colaboratory.intrinsic+json": {
              "type": "dataframe",
              "variable_name": "predicted_diet_from_example_inputs",
              "summary": "{\n  \"name\": \"predicted_diet_from_example_inputs\",\n  \"rows\": 1,\n  \"fields\": [\n    {\n      \"column\": \"vegetable_frequency\",\n      \"properties\": {\n        \"dtype\": \"string\",\n        \"num_unique_values\": 1,\n        \"samples\": [\n          \"Daily\"\n        ],\n        \"semantic_type\": \"\",\n        \"description\": \"\"\n      }\n    },\n    {\n      \"column\": \"red_meat_frequency\",\n      \"properties\": {\n        \"dtype\": \"string\",\n        \"num_unique_values\": 1,\n        \"samples\": [\n          \"Occasionally (1-2 times/week)\"\n        ],\n        \"semantic_type\": \"\",\n        \"description\": \"\"\n      }\n    },\n    {\n      \"column\": \"whole_grain_frequency\",\n      \"properties\": {\n        \"dtype\": \"string\",\n        \"num_unique_values\": 1,\n        \"samples\": [\n          \"Occasionally (1-2 times/week)\"\n        ],\n        \"semantic_type\": \"\",\n        \"description\": \"\"\n      }\n    },\n    {\n      \"column\": \"alcohol_frequency\",\n      \"properties\": {\n        \"dtype\": \"string\",\n        \"num_unique_values\": 1,\n        \"samples\": [\n          \"Never\"\n        ],\n        \"semantic_type\": \"\",\n        \"description\": \"\"\n      }\n    },\n    {\n      \"column\": \"milk_cheese_frequency\",\n      \"properties\": {\n        \"dtype\": \"string\",\n        \"num_unique_values\": 1,\n        \"samples\": [\n          \"Rarely (less than once/week)\"\n        ],\n        \"semantic_type\": \"\",\n        \"description\": \"\"\n      }\n    },\n    {\n      \"column\": \"gluten\",\n      \"properties\": {\n        \"dtype\": \"string\",\n        \"num_unique_values\": 1,\n        \"samples\": [\n          \"No\"\n        ],\n        \"semantic_type\": \"\",\n        \"description\": \"\"\n      }\n    },\n    {\n      \"column\": \"softener\",\n      \"properties\": {\n        \"dtype\": \"string\",\n        \"num_unique_values\": 1,\n        \"samples\": [\n          \"False\"\n        ],\n        \"semantic_type\": \"\",\n        \"description\": \"\"\n      }\n    },\n    {\n      \"column\": \"Increased Fiber Recommendation\",\n      \"properties\": {\n        \"dtype\": \"string\",\n        \"num_unique_values\": 1,\n        \"samples\": [\n          \"Consider increasing fiber intake, including addition of soluble fiber-rich vegetables.\"\n        ],\n        \"semantic_type\": \"\",\n        \"description\": \"\"\n      }\n    },\n    {\n      \"column\": \"Low FODMAP Recommendation\",\n      \"properties\": {\n        \"dtype\": \"string\",\n        \"num_unique_values\": 1,\n        \"samples\": [\n          \"Consider a Low FODMAP diet with decreased carbohydrates.\"\n        ],\n        \"semantic_type\": \"\",\n        \"description\": \"\"\n      }\n    },\n    {\n      \"column\": \"Reduce Dairy Recommendation\",\n      \"properties\": {\n        \"dtype\": \"number\",\n        \"std\": null,\n        \"min\": null,\n        \"max\": null,\n        \"num_unique_values\": 0,\n        \"samples\": [],\n        \"semantic_type\": \"\",\n        \"description\": \"\"\n      }\n    },\n    {\n      \"column\": \"Reduce Red Meat Recommendation\",\n      \"properties\": {\n        \"dtype\": \"number\",\n        \"std\": null,\n        \"min\": null,\n        \"max\": null,\n        \"num_unique_values\": 0,\n        \"samples\": [],\n        \"semantic_type\": \"\",\n        \"description\": \"\"\n      }\n    },\n    {\n      \"column\": \"Reduce Alcohol Recommendation\",\n      \"properties\": {\n        \"dtype\": \"number\",\n        \"std\": null,\n        \"min\": null,\n        \"max\": null,\n        \"num_unique_values\": 0,\n        \"samples\": [],\n        \"semantic_type\": \"\",\n        \"description\": \"\"\n      }\n    }\n  ]\n}"
            }
          },
          "metadata": {}
        }
      ]
    },
    {
      "cell_type": "code",
      "source": [
        "# The text for individual columns can then be retrieved as follows:\n",
        "predicted_diet_from_example_inputs.loc[0, 'Increased Fiber Recommendation']"
      ],
      "metadata": {
        "colab": {
          "base_uri": "https://localhost:8080/",
          "height": 36
        },
        "id": "D_INyJMtpGAa",
        "outputId": "2b0d4d4f-821a-49b1-dc51-1b2002d2c88e"
      },
      "execution_count": null,
      "outputs": [
        {
          "output_type": "execute_result",
          "data": {
            "text/plain": [
              "'Consider increasing fiber intake, including addition of soluble fiber-rich vegetables.'"
            ],
            "application/vnd.google.colaboratory.intrinsic+json": {
              "type": "string"
            }
          },
          "metadata": {},
          "execution_count": 32
        }
      ]
    },
    {
      "cell_type": "markdown",
      "source": [
        "## References\n",
        "\n",
        "\n",
        "\n",
        "1.   Chavarria, X., Park, H. S., Oh, S., Kang, D., Choi, J. H., Kim, M., Cho, Y. H., Yi, M., & Kim, J. Y. (2025). Using gut microbiome metagenomic hypervariable features for diabetes screening and typing through supervised machine learning. Microbial Genomics, 11(3). https://doi.org/10.1099/mgen.0.001365\n",
        "2.   Kang, D., Park, J., Yeo, M., Sang Bum Kang, Jin Man Kim, Ju Seok Kim, & Kim, S. (2023). Diagnosis of Crohn’s disease and ulcerative colitis using the microbiome. BMC Microbiology, 23(1). https://doi.org/10.1186/s12866-023-03084-5\n",
        "3.   Lee, S., & Lee, I. (2024). Comprehensive assessment of machine learning methods for diagnosing gastrointestinal diseases through whole metagenome sequencing data. Gut Microbes, 16(1). https://doi.org/10.1080/19490976.2024.2375679\n",
        "4.   Lloyd-Price, J., Abu-Ali, G., & Huttenhower, C. (2016). The healthy human microbiome. Genome Medicine, 8(1). https://doi.org/10.1186/s13073-016-0307-y\n",
        "5.   Oh, T. G., Kim, S. M., Caussy, C., Fu, T., Guo, J., Bassirian, S., Singh, S., Madamba, E. V., Bettencourt, R., Richards, L., Yu, R. T., Atkins, A. R., Huan, T., Brenner, D. A., Sirlin, C. B., Downes, M., Evans, R. M., & Loomba, R. (2020). A Universal Gut-Microbiome-Derived Signature Predicts Cirrhosis. Cell Metabolism, 32(5), 878-888.e6. https://doi.org/10.1016/j.cmet.2020.06.005\n",
        "\n",
        "\n"
      ],
      "metadata": {
        "id": "9Sb46Jmr6pQ0"
      }
    },
    {
      "cell_type": "code",
      "source": [],
      "metadata": {
        "id": "tpJ1B8xsLHCW"
      },
      "execution_count": null,
      "outputs": []
    }
  ]
}